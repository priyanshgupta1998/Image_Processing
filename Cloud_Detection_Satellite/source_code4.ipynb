{
  "nbformat": 4,
  "nbformat_minor": 0,
  "metadata": {
    "colab": {
      "name": "TensorFlow with GPU",
      "provenance": [],
      "collapsed_sections": [],
      "include_colab_link": true
    },
    "kernelspec": {
      "name": "python3",
      "display_name": "Python 3"
    },
    "accelerator": "GPU"
  },
  "cells": [
    {
      "cell_type": "markdown",
      "metadata": {
        "id": "view-in-github",
        "colab_type": "text"
      },
      "source": [
        "<a href=\"https://colab.research.google.com/github/priyanshgupta1998/Image_Processing/blob/master/Cloud_Detection_Satellite/source_code4.ipynb\" target=\"_parent\"><img src=\"https://colab.research.google.com/assets/colab-badge.svg\" alt=\"Open In Colab\"/></a>"
      ]
    },
    {
      "cell_type": "markdown",
      "metadata": {
        "id": "z1nBNcC_agkM",
        "colab_type": "text"
      },
      "source": [
        "#Understanding Clouds from Satellite Images  WITH \"EDA\""
      ]
    },
    {
      "cell_type": "code",
      "metadata": {
        "id": "Xpc_e0lhaCJY",
        "colab_type": "code",
        "colab": {}
      },
      "source": [
        "#Cloud_Detection_Satellite"
      ],
      "execution_count": 0,
      "outputs": []
    },
    {
      "cell_type": "code",
      "metadata": {
        "id": "YKfZeg1VaCMA",
        "colab_type": "code",
        "colab": {
          "resources": {
            "http://localhost:8080/nbextensions/google.colab/files.js": {
              "data": "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",
              "ok": true,
              "headers": [
                [
                  "content-type",
                  "application/javascript"
                ]
              ],
              "status": 200,
              "status_text": ""
            }
          },
          "base_uri": "https://localhost:8080/",
          "height": 74
        },
        "outputId": "061d8d9f-8b04-4444-de1c-0798a7ae75f0"
      },
      "source": [
        "from google.colab import files\n",
        "files.upload()\n",
        "!pip install -q kaggle\n",
        "!mkdir -p ~/.kaggle\n",
        "!cp kaggle.json ~/.kaggle/\n",
        "!chmod 600 ~/.kaggle/kaggle.json"
      ],
      "execution_count": 2,
      "outputs": [
        {
          "output_type": "display_data",
          "data": {
            "text/html": [
              "\n",
              "     <input type=\"file\" id=\"files-c8312188-b6b0-4c73-9553-a30fe2dedeaf\" name=\"files[]\" multiple disabled />\n",
              "     <output id=\"result-c8312188-b6b0-4c73-9553-a30fe2dedeaf\">\n",
              "      Upload widget is only available when the cell has been executed in the\n",
              "      current browser session. Please rerun this cell to enable.\n",
              "      </output>\n",
              "      <script src=\"/nbextensions/google.colab/files.js\"></script> "
            ],
            "text/plain": [
              "<IPython.core.display.HTML object>"
            ]
          },
          "metadata": {
            "tags": []
          }
        },
        {
          "output_type": "stream",
          "text": [
            "Saving kaggle.json to kaggle.json\n"
          ],
          "name": "stdout"
        }
      ]
    },
    {
      "cell_type": "code",
      "metadata": {
        "id": "Mu-JzepDaCN0",
        "colab_type": "code",
        "colab": {
          "base_uri": "https://localhost:8080/",
          "height": 238
        },
        "outputId": "f33b91eb-eb5e-4b1d-9209-22adeee6a7c2"
      },
      "source": [
        "!kaggle competitions download -c understanding_cloud_organization"
      ],
      "execution_count": 4,
      "outputs": [
        {
          "output_type": "stream",
          "text": [
            "Warning: Looks like you're using an outdated API Version, please consider updating (server 1.5.6 / client 1.5.4)\n",
            "Downloading train_images.zip to /content\n",
            "100% 3.44G/3.44G [00:45<00:00, 59.2MB/s]\n",
            "100% 3.44G/3.44G [00:45<00:00, 81.6MB/s]\n",
            "Downloading test_images.zip to /content\n",
            "100% 2.29G/2.30G [00:39<00:00, 70.3MB/s]\n",
            "100% 2.30G/2.30G [00:39<00:00, 62.0MB/s]\n",
            "Downloading train.csv.zip to /content\n",
            " 96% 52.0M/54.2M [00:00<00:00, 44.8MB/s]\n",
            "100% 54.2M/54.2M [00:01<00:00, 55.9MB/s]\n",
            "Downloading sample_submission.csv to /content\n",
            "  0% 0.00/321k [00:00<?, ?B/s]\n",
            "100% 321k/321k [00:00<00:00, 103MB/s]\n"
          ],
          "name": "stdout"
        }
      ]
    },
    {
      "cell_type": "code",
      "metadata": {
        "id": "2aWQVihjsgK6",
        "colab_type": "code",
        "colab": {}
      },
      "source": [
        "# set paths to train and test image datasets\n",
        "TRAIN_PATH = '../input/understanding_cloud_organization/train_images/'\n",
        "TEST_PATH = '../input/understanding_cloud_organization/test_images/'\n",
        "\n",
        "# load dataframe with train labels\n",
        "train_df = pd.read_csv('../input/understanding_cloud_organization/train.csv')\n",
        "train_fns = sorted(glob(TRAIN_PATH + '*.jpg'))\n",
        "\n",
        "print('There are {} images in the train set.'.format(len(train_fns)))"
      ],
      "execution_count": 0,
      "outputs": []
    },
    {
      "cell_type": "code",
      "metadata": {
        "id": "7qMnmaO9sgTG",
        "colab_type": "code",
        "colab": {}
      },
      "source": [
        "# load the filenames for test images\n",
        "test_fns = sorted(glob(TEST_PATH + '*.jpg'))\n",
        "\n",
        "print('There are {} images in the test set.'.format(len(test_fns)))"
      ],
      "execution_count": 0,
      "outputs": []
    },
    {
      "cell_type": "code",
      "metadata": {
        "id": "s_BdWtKasgYV",
        "colab_type": "code",
        "colab": {}
      },
      "source": [
        "# plotting a pie chart which demonstrates train and test sets\n",
        "labels = 'Train', 'Test'\n",
        "sizes = [len(train_fns), len(test_fns)]\n",
        "explode = (0, 0.1)\n",
        "\n",
        "fig, ax = plt.subplots(figsize=(6, 6))\n",
        "ax.pie(sizes, explode=explode, labels=labels, autopct='%1.1f%%', shadow=True, startangle=90)\n",
        "ax.axis('equal')\n",
        "ax.set_title('Train and Test Sets')\n",
        "\n",
        "plt.show()"
      ],
      "execution_count": 0,
      "outputs": []
    },
    {
      "cell_type": "code",
      "metadata": {
        "id": "k8yYBef6sgm_",
        "colab_type": "code",
        "colab": {}
      },
      "source": [
        "train_df.head()"
      ],
      "execution_count": 0,
      "outputs": []
    },
    {
      "cell_type": "markdown",
      "metadata": {
        "id": "C-lIQNPttaJQ",
        "colab_type": "text"
      },
      "source": [
        "We can see that:\n",
        "\n",
        "For each image from the training dataset there are 4 lines for each type of clouds.\n",
        "Image_Label is a contatenation of the image filename and a cloud type.\n",
        "If a certain type of clouds in present on the image, the EncodedPixels column is non-null and contains the segmentation map for the corresponding cloud type.\n",
        "1. Explore null values:\n",
        "\n",
        "Now let's see how many null values are there:"
      ]
    },
    {
      "cell_type": "code",
      "metadata": {
        "id": "BLZKGl70sgl2",
        "colab_type": "code",
        "colab": {}
      },
      "source": [
        "print('There are {} rows with empty segmentation maps.'.format(len(train_df) - train_df.EncodedPixels.count()))"
      ],
      "execution_count": 0,
      "outputs": []
    },
    {
      "cell_type": "code",
      "metadata": {
        "id": "bxBWuarHsgki",
        "colab_type": "code",
        "colab": {}
      },
      "source": [
        "# plotting a pie chart\n",
        "labels = 'Non-empty', 'Empty'\n",
        "sizes = [train_df.EncodedPixels.count(), len(train_df) - train_df.EncodedPixels.count()]\n",
        "explode = (0, 0.1)\n",
        "\n",
        "fig, ax = plt.subplots(figsize=(6, 6))\n",
        "ax.pie(sizes, explode=explode, labels=labels, autopct='%1.1f%%', shadow=True, startangle=90)\n",
        "ax.axis('equal')\n",
        "ax.set_title('Non-empty and Empty Masks')\n",
        "\n",
        "plt.show()"
      ],
      "execution_count": 0,
      "outputs": []
    },
    {
      "cell_type": "markdown",
      "metadata": {
        "id": "qdtOxKo1tjbs",
        "colab_type": "text"
      },
      "source": [
        "#Looks like almost half of the lines is empty.\n",
        "\n",
        "2. Explore the labels:\n",
        "\n",
        "Let's split the Image_Label into two columns and analyze the labels:"
      ]
    },
    {
      "cell_type": "code",
      "metadata": {
        "id": "ARdAKZTwsgjV",
        "colab_type": "code",
        "colab": {}
      },
      "source": [
        "# split column\n",
        "split_df = train_df[\"Image_Label\"].str.split(\"_\", n = 1, expand = True)\n",
        "# add new columns to train_df\n",
        "train_df['Image'] = split_df[0]\n",
        "train_df['Label'] = split_df[1]\n",
        "\n",
        "# check the result\n",
        "train_df.head()"
      ],
      "execution_count": 0,
      "outputs": []
    },
    {
      "cell_type": "code",
      "metadata": {
        "id": "8Km43n1Fsghx",
        "colab_type": "code",
        "colab": {}
      },
      "source": [
        "fish = train_df[train_df['Label'] == 'Fish'].EncodedPixels.count()\n",
        "flower = train_df[train_df['Label'] == 'Flower'].EncodedPixels.count()\n",
        "gravel = train_df[train_df['Label'] == 'Gravel'].EncodedPixels.count()\n",
        "sugar = train_df[train_df['Label'] == 'Sugar'].EncodedPixels.count()\n",
        "\n",
        "print('There are {} fish clouds'.format(fish))\n",
        "print('There are {} flower clouds'.format(flower))\n",
        "print('There are {} gravel clouds'.format(gravel))\n",
        "print('There are {} sugar clouds'.format(sugar))"
      ],
      "execution_count": 0,
      "outputs": []
    },
    {
      "cell_type": "code",
      "metadata": {
        "id": "ppVfcdIrtowT",
        "colab_type": "code",
        "colab": {}
      },
      "source": [
        "# plotting a pie chart\n",
        "labels = 'Fish', 'Flower', 'Gravel', 'Sugar'\n",
        "sizes = [fish, flower, gravel, sugar]\n",
        "\n",
        "fig, ax = plt.subplots(figsize=(6, 6))\n",
        "ax.pie(sizes, labels=labels, autopct='%1.1f%%', shadow=True, startangle=90)\n",
        "ax.axis('equal')\n",
        "ax.set_title('Cloud Types')\n",
        "\n",
        "plt.show()"
      ],
      "execution_count": 0,
      "outputs": []
    },
    {
      "cell_type": "markdown",
      "metadata": {
        "id": "EnkgIOODtw59",
        "colab_type": "text"
      },
      "source": [
        "We can see that at least the dataset is somewhat balanced, which is great and makes are task way more easier.\n",
        "\n",
        "3. Explore the number of labels per image:"
      ]
    },
    {
      "cell_type": "code",
      "metadata": {
        "id": "hbiTS7k_tos1",
        "colab_type": "code",
        "colab": {}
      },
      "source": [
        "labels_per_image = train_df.groupby('Image')['EncodedPixels'].count()"
      ],
      "execution_count": 0,
      "outputs": []
    },
    {
      "cell_type": "code",
      "metadata": {
        "id": "M6HILIp8toq_",
        "colab_type": "code",
        "colab": {}
      },
      "source": [
        "print('The mean number of labels per image is {}'.format(labels_per_image.mean()))"
      ],
      "execution_count": 0,
      "outputs": []
    },
    {
      "cell_type": "code",
      "metadata": {
        "id": "UtzkugCotopL",
        "colab_type": "code",
        "colab": {}
      },
      "source": [
        "fig, ax = plt.subplots(figsize=(6, 6))\n",
        "ax.hist(labels_per_image)\n",
        "ax.set_title('Number of Labels per Image')"
      ],
      "execution_count": 0,
      "outputs": []
    },
    {
      "cell_type": "markdown",
      "metadata": {
        "id": "xvTrfT2pt7Ca",
        "colab_type": "text"
      },
      "source": [
        "So most of the images have 2 labels.\n",
        "\n",
        "4. Explore the correlation between different cloud types.\n",
        "\n",
        "Using the dataframe with labels, we can try to find the correlation between different types of clouds."
      ]
    },
    {
      "cell_type": "code",
      "metadata": {
        "id": "M6Lvoww6xniQ",
        "colab_type": "code",
        "colab": {}
      },
      "source": [
        ""
      ],
      "execution_count": 0,
      "outputs": []
    },
    {
      "cell_type": "markdown",
      "metadata": {
        "id": "cOW1OQ5PxzWY",
        "colab_type": "text"
      },
      "source": [
        "#4. Explore the correlation between different cloud types.\n",
        "\n",
        "Using the dataframe with labels, we can try to find the correlation between different types of clouds."
      ]
    },
    {
      "cell_type": "code",
      "metadata": {
        "id": "ueMFaZFQxneY",
        "colab_type": "code",
        "colab": {}
      },
      "source": [
        "\n",
        "\n",
        "# create dummy columns for each cloud type\n",
        "corr_df = pd.get_dummies(train_df, columns = ['Label'])\n",
        "# fill null values with '-1'\n",
        "corr_df = corr_df.fillna('-1')\n",
        "\n",
        "# define a helper function to fill dummy columns\n",
        "def get_dummy_value(row, cloud_type):\n",
        "    ''' Get value for dummy column '''\n",
        "    if cloud_type == 'fish':\n",
        "        return row['Label_Fish'] * (row['EncodedPixels'] != '-1')\n",
        "    if cloud_type == 'flower':\n",
        "        return row['Label_Flower'] * (row['EncodedPixels'] != '-1')\n",
        "    if cloud_type == 'gravel':\n",
        "        return row['Label_Gravel'] * (row['EncodedPixels'] != '-1')\n",
        "    if cloud_type == 'sugar':\n",
        "        return row['Label_Sugar'] * (row['EncodedPixels'] != '-1')\n",
        "# fill dummy columns\n",
        "corr_df['Label_Fish'] = corr_df.apply(lambda row: get_dummy_value(row, 'fish'), axis=1)\n",
        "corr_df['Label_Flower'] = corr_df.apply(lambda row: get_dummy_value(row, 'flower'), axis=1)\n",
        "corr_df['Label_Gravel'] = corr_df.apply(lambda row: get_dummy_value(row, 'gravel'), axis=1)\n",
        "corr_df['Label_Sugar'] = corr_df.apply(lambda row: get_dummy_value(row, 'sugar'), axis=1)\n",
        "\n",
        "# check the result\n",
        "corr_df.head()"
      ],
      "execution_count": 0,
      "outputs": []
    },
    {
      "cell_type": "code",
      "metadata": {
        "id": "MiqXBg8Nxnb5",
        "colab_type": "code",
        "colab": {}
      },
      "source": [
        "# group by the image\n",
        "corr_df = corr_df.groupby('Image')['Label_Fish', 'Label_Flower', 'Label_Gravel', 'Label_Sugar'].max()\n",
        "corr_df.head()"
      ],
      "execution_count": 0,
      "outputs": []
    },
    {
      "cell_type": "code",
      "metadata": {
        "id": "lmQK2SKexUBK",
        "colab_type": "code",
        "colab": {}
      },
      "source": [
        "#Find out correlation between columns and plot\n",
        "corrs = np.corrcoef(corr_df.values.T)\n",
        "sns.set(font_scale=1)\n",
        "sns.set(rc={'figure.figsize':(7,7)})\n",
        "hm=sns.heatmap(corrs, cbar = True, annot=True, square = True, fmt = '.2f',\n",
        "              yticklabels = ['Fish', 'Flower', 'Gravel', 'Sugar'], \n",
        "               xticklabels = ['Fish', 'Flower', 'Gravel', 'Sugar']).set_title('Cloud type correlation heatmap')\n",
        "\n",
        "fig = hm.get_figure()"
      ],
      "execution_count": 0,
      "outputs": []
    },
    {
      "cell_type": "markdown",
      "metadata": {
        "id": "krK5LbQXxkeq",
        "colab_type": "text"
      },
      "source": [
        "As we can observe, there is no strong correlation between the types of the clouds on one image (all the correlation coefficients are close to zero)."
      ]
    },
    {
      "cell_type": "markdown",
      "metadata": {
        "id": "sVnW5-Gmxe9K",
        "colab_type": "text"
      },
      "source": [
        "#Explore the Images\n",
        "Here goes the most exciting part of the EDA: exploring the images themselves.\n",
        "\n",
        "1. Explore image sizes:"
      ]
    },
    {
      "cell_type": "code",
      "metadata": {
        "id": "AsA6gGDCxT-f",
        "colab_type": "code",
        "colab": {}
      },
      "source": [
        "def get_image_sizes(train = True):\n",
        "    '''\n",
        "    Function to get sizes of images from test and train sets.\n",
        "    INPUT:\n",
        "        train - indicates whether we are getting sizes of images from train or test set\n",
        "    '''\n",
        "    if train:\n",
        "        path = TRAIN_PATH\n",
        "    else:\n",
        "        path = TEST_PATH\n",
        "        \n",
        "    widths = []\n",
        "    heights = []\n",
        "    images = sorted(glob(path + '*.jpg'))\n",
        "    \n",
        "    max_im = Image.open(images[0])\n",
        "    min_im = Image.open(images[0])\n",
        "        \n",
        "    for im in range(0, len(images)):\n",
        "        image = Image.open(images[im])\n",
        "        width, height = image.size\n",
        "        \n",
        "        if len(widths) > 0:\n",
        "            if width > max(widths):\n",
        "                max_im = image\n",
        "\n",
        "            if width < min(widths):\n",
        "                min_im = image\n",
        "\n",
        "        widths.append(width)\n",
        "        heights.append(height)\n",
        "        \n",
        "    return widths, heights, max_im, min_im"
      ],
      "execution_count": 0,
      "outputs": []
    },
    {
      "cell_type": "code",
      "metadata": {
        "id": "XvfksQz_xT78",
        "colab_type": "code",
        "colab": {}
      },
      "source": [
        "# get sizes of images from test and train sets\n",
        "train_widths, train_heights, max_train, min_train = get_image_sizes(train = True)\n",
        "test_widths, test_heights, max_test, min_test = get_image_sizes(train = False)\n",
        "\n",
        "print('Maximum width for training set is {}'.format(max(train_widths)))\n",
        "print('Minimum width for training set is {}'.format(min(train_widths)))\n",
        "print('Maximum height for training set is {}'.format(max(train_heights)))\n",
        "print('Minimum height for training set is {}'.format(min(train_heights)))"
      ],
      "execution_count": 0,
      "outputs": []
    },
    {
      "cell_type": "code",
      "metadata": {
        "id": "UX2Az7odsgge",
        "colab_type": "code",
        "colab": {}
      },
      "source": [
        "print('Maximum width for test set is {}'.format(max(test_widths)))\n",
        "print('Minimum width for test set is {}'.format(min(test_widths)))\n",
        "print('Maximum height for test set is {}'.format(max(test_heights)))\n",
        "print('Minimum height for test set is {}'.format(min(test_heights)))"
      ],
      "execution_count": 0,
      "outputs": []
    },
    {
      "cell_type": "markdown",
      "metadata": {
        "id": "g-yfoN2lxPMu",
        "colab_type": "text"
      },
      "source": [
        "#2. Plot sample images from training set:"
      ]
    },
    {
      "cell_type": "code",
      "metadata": {
        "id": "jKaux3lysgeg",
        "colab_type": "code",
        "colab": {}
      },
      "source": [
        "# helper function to get a string of labels for the picture\n",
        "def get_labels(image_id):\n",
        "    ''' Function to get the labels for the image by name'''\n",
        "    im_df = train_df[train_df['Image'] == image_id].fillna('-1')\n",
        "    im_df = im_df[im_df['EncodedPixels'] != '-1'].groupby('Label').count()\n",
        "    \n",
        "    index = im_df.index\n",
        "    all_labels = ['Fish', 'Flower', 'Gravel', 'Sugar']\n",
        "    \n",
        "    labels = ''\n",
        "    \n",
        "    for label in all_labels:\n",
        "        if label in index:\n",
        "            labels = labels + ' ' + label\n",
        "    \n",
        "    return labels\n",
        "\n",
        "# function to plot a grid of images and their labels\n",
        "def plot_training_images(width = 5, height = 2):\n",
        "    \"\"\"\n",
        "    Function to plot grid with several examples of cloud images from train set.\n",
        "    INPUT:\n",
        "        width - number of images per row\n",
        "        height - number of rows\n",
        "\n",
        "    OUTPUT: None\n",
        "    \"\"\"\n",
        "    \n",
        "    # get a list of images from training set\n",
        "    images = sorted(glob(TRAIN_PATH + '*.jpg'))\n",
        "    \n",
        "    fig, axs = plt.subplots(height, width, figsize=(width * 3, height * 3))\n",
        "    \n",
        "    # create a list of random indices \n",
        "    rnd_indices = rnd_indices = [np.random.choice(range(0, len(images))) for i in range(height * width)]\n",
        "\n",
        "    for im in range(0, height * width):\n",
        "        # open image with a random index\n",
        "        image = Image.open(images[rnd_indices[im]])\n",
        "        \n",
        "        i = im // width\n",
        "        j = im % width\n",
        "        \n",
        "        # plot the image\n",
        "        axs[i,j].imshow(image) #plot the data\n",
        "        axs[i,j].axis('off')\n",
        "        axs[i,j].set_title(get_labels(images[rnd_indices[im]].split('/')[-1]))\n",
        "\n",
        "    # set suptitle\n",
        "    plt.suptitle('Sample images from the train set')\n",
        "    plt.show()"
      ],
      "execution_count": 0,
      "outputs": []
    },
    {
      "cell_type": "code",
      "metadata": {
        "id": "73J54UBJv6bO",
        "colab_type": "code",
        "colab": {}
      },
      "source": [
        "plot_training_images()"
      ],
      "execution_count": 0,
      "outputs": []
    },
    {
      "cell_type": "markdown",
      "metadata": {
        "id": "b6d0642Cw_H7",
        "colab_type": "text"
      },
      "source": [
        "#3. Visualize segmentation maps"
      ]
    },
    {
      "cell_type": "code",
      "metadata": {
        "id": "0-VeB4kBv6Yi",
        "colab_type": "code",
        "colab": {}
      },
      "source": [
        "\n",
        "def rle_to_mask(rle_string, width, height):\n",
        "    '''\n",
        "\n",
        "    convert RLE(run length encoding) string to numpy array\n",
        "\n",
        "    Parameters: \n",
        "    rle_string (str): string of rle encoded mask\n",
        "    height (int): height of the mask\n",
        "    width (int): width of the mask\n",
        "\n",
        "    Returns: \n",
        "    numpy.array: numpy array of the mask\n",
        "    '''\n",
        "    \n",
        "    rows, cols = height, width\n",
        "    \n",
        "    if rle_string == -1:\n",
        "        return np.zeros((height, width))\n",
        "    else:\n",
        "        rle_numbers = [int(num_string) for num_string in rle_string.split(' ')]\n",
        "        rle_pairs = np.array(rle_numbers).reshape(-1,2)\n",
        "        img = np.zeros(rows*cols, dtype=np.uint8)\n",
        "        for index, length in rle_pairs:\n",
        "            index -= 1\n",
        "            img[index:index+length] = 255\n",
        "        img = img.reshape(cols,rows)\n",
        "        img = img.T\n",
        "        return img"
      ],
      "execution_count": 0,
      "outputs": []
    },
    {
      "cell_type": "markdown",
      "metadata": {
        "id": "CxTKDySdw04h",
        "colab_type": "text"
      },
      "source": [
        "I will use imgaug library to visualize the segmentation maps. This library has special helpers for visualization and augmentation of images with segmentation maps. You will see how easy it is to work with segmentation maps with imgaug."
      ]
    },
    {
      "cell_type": "code",
      "metadata": {
        "id": "pFfu-x3Dv6Vz",
        "colab_type": "code",
        "colab": {}
      },
      "source": [
        "from __future__ import print_function\n",
        "import numpy as np\n",
        "\n",
        "def valid_imshow_data(data):\n",
        "    data = np.asarray(data)\n",
        "    if data.ndim == 2:\n",
        "        return True\n",
        "    elif data.ndim == 3:\n",
        "        if 3 <= data.shape[2] <= 4:\n",
        "            return True\n",
        "        else:\n",
        "            print('The \"data\" has 3 dimensions but the last dimension '\n",
        "                  'must have a length of 3 (RGB) or 4 (RGBA), not \"{}\".'\n",
        "                  ''.format(data.shape[2]))\n",
        "            return False\n",
        "    else:\n",
        "        print('To visualize an image the data must be 2 dimensional or '\n",
        "              '3 dimensional, not \"{}\".'\n",
        "              ''.format(data.ndim))\n",
        "        return False"
      ],
      "execution_count": 0,
      "outputs": []
    },
    {
      "cell_type": "code",
      "metadata": {
        "id": "CJN3zSLfv6S-",
        "colab_type": "code",
        "colab": {}
      },
      "source": [
        "def get_mask(line_id, shape = (2100, 1400)):\n",
        "    '''\n",
        "    Function to visualize the image and the mask.\n",
        "    INPUT:\n",
        "        line_id - id of the line to visualize the masks\n",
        "        shape - image shape\n",
        "    RETURNS:\n",
        "        np_mask - numpy segmentation map\n",
        "    '''\n",
        "    # replace null values with '-1'\n",
        "    im_df = train_df.fillna('-1')\n",
        "    \n",
        "    # convert rle to mask\n",
        "    rle = im_df.loc[line_id]['EncodedPixels']\n",
        "    if rle != '-1':\n",
        "        np_mask = rle_to_mask(rle, shape[0], shape[1])\n",
        "        np_mask = np.clip(np_mask, 0, 1)\n",
        "    else:\n",
        "        # empty mask\n",
        "        np_mask = np.zeros((shape[0],shape[1]), dtype=np.uint8)\n",
        "        \n",
        "    return np_mask"
      ],
      "execution_count": 0,
      "outputs": []
    },
    {
      "cell_type": "code",
      "metadata": {
        "id": "FoV7A_CVv6P3",
        "colab_type": "code",
        "colab": {}
      },
      "source": [
        "def get_mask_by_image_id(image_id, label):\n",
        "    '''\n",
        "    Function to visualize several segmentation maps.\n",
        "    INPUT:\n",
        "        image_id - filename of the image\n",
        "    RETURNS:\n",
        "        np_mask - numpy segmentation map\n",
        "    '''\n",
        "    im_df = train_df[train_df['Image'] == image_id.split('/')[-1]].fillna('-1')\n",
        "\n",
        "    image = np.asarray(Image.open(image_id))\n",
        "\n",
        "    rle = im_df[im_df['Label'] == label]['EncodedPixels'].values[0]\n",
        "    if rle != '-1':\n",
        "        np_mask = rle_to_mask(rle, np.asarray(image).shape[1], np.asarray(image).shape[0])\n",
        "        np_mask = np.clip(np_mask, 0, 1)\n",
        "    else:\n",
        "        # empty mask\n",
        "        np_mask = np.zeros((np.asarray(image).shape[0], np.asarray(image).shape[1]), dtype=np.uint8)\n",
        "        \n",
        "    return np_mask\n"
      ],
      "execution_count": 0,
      "outputs": []
    },
    {
      "cell_type": "code",
      "metadata": {
        "id": "XtxwrMWyv6H4",
        "colab_type": "code",
        "colab": {}
      },
      "source": [
        "\n",
        "def visualize_image_with_mask(line_id):\n",
        "    '''\n",
        "    Function to visualize the image and the mask.\n",
        "    INPUT:\n",
        "        line_id - id of the line to visualize the masks\n",
        "    '''\n",
        "    # replace null values with '-1'\n",
        "    im_df = train_df.fillna('-1')\n",
        "    \n",
        "    # get segmentation mask\n",
        "    np_mask = get_mask(line_id)\n",
        "    # open the image\n",
        "    image = Image.open(TRAIN_PATH + im_df.loc[line_id]['Image'])\n",
        "\n",
        "    # create segmentation map\n",
        "    segmap = SegmentationMapOnImage(np_mask, np_mask.shape, nb_classes=2)\n",
        "    \n",
        "    # visualize the image and map\n",
        "    side_by_side = np.hstack([\n",
        "        segmap.draw_on_image(np.asarray(image))\n",
        "    ]).reshape(np.asarray(image).shape)\n",
        "\n",
        "    fig, ax = plt.subplots(figsize=(6, 4))\n",
        "    ax.axis('off')\n",
        "    plt.title(im_df.loc[line_id]['Label'])\n",
        "    \n",
        "    ax.imshow(side_by_side)"
      ],
      "execution_count": 0,
      "outputs": []
    },
    {
      "cell_type": "code",
      "metadata": {
        "id": "Wz6CHiEcv6Ev",
        "colab_type": "code",
        "colab": {}
      },
      "source": [
        "visualize_image_with_mask(0)"
      ],
      "execution_count": 0,
      "outputs": []
    },
    {
      "cell_type": "code",
      "metadata": {
        "id": "r2HnS_0Mv5zu",
        "colab_type": "code",
        "colab": {}
      },
      "source": [
        "visualize_image_with_mask(1)"
      ],
      "execution_count": 0,
      "outputs": []
    },
    {
      "cell_type": "code",
      "metadata": {
        "id": "efk9Gux7v5xL",
        "colab_type": "code",
        "colab": {}
      },
      "source": [
        "# empty mask:\n",
        "visualize_image_with_mask(2)"
      ],
      "execution_count": 0,
      "outputs": []
    },
    {
      "cell_type": "markdown",
      "metadata": {
        "id": "l5zfjo1jv-eM",
        "colab_type": "text"
      },
      "source": [
        "#Visualize image grids:"
      ]
    },
    {
      "cell_type": "code",
      "metadata": {
        "id": "SG2u1V_gwCD5",
        "colab_type": "code",
        "colab": {}
      },
      "source": [
        "def plot_training_images_and_masks(n_images = 3):\n",
        "    '''\n",
        "    Function to plot several random images with segmentation masks.\n",
        "    INPUT:\n",
        "        n_images - number of images to visualize\n",
        "    '''\n",
        "    \n",
        "    # get a list of images from training set\n",
        "    images = sorted(glob(TRAIN_PATH + '*.jpg'))\n",
        "    \n",
        "    fig, ax = plt.subplots(n_images, 4, figsize=(20, 10))\n",
        "    \n",
        "    # create a list of random indices \n",
        "    rnd_indices = [np.random.choice(range(0, len(images))) for i in range(n_images)]\n",
        "    \n",
        "    for im in range(0, n_images):\n",
        "        # open image with a random index\n",
        "        image = Image.open(images[rnd_indices[im]])\n",
        "        # get segmentation masks\n",
        "        fish = get_mask_by_image_id(images[rnd_indices[im]], 'Fish')\n",
        "        flower = get_mask_by_image_id(images[rnd_indices[im]], 'Flower')\n",
        "        gravel = get_mask_by_image_id(images[rnd_indices[im]], 'Gravel')\n",
        "        sugar = get_mask_by_image_id(images[rnd_indices[im]], 'Sugar')\n",
        "        \n",
        "        # draw masks on images\n",
        "        shape = (np.asarray(image).shape[0], np.asarray(image).shape[1])\n",
        "        if np.sum(fish) > 0:\n",
        "            segmap_fish = SegmentationMapOnImage(fish, shape=shape, nb_classes=2)\n",
        "            im_fish = np.array(segmap_fish.draw_on_image(np.asarray(image))).reshape(np.asarray(image).shape)\n",
        "        else:\n",
        "            im_fish = np.asarray(image)\n",
        "        \n",
        "        if np.sum(flower) > 0:\n",
        "            segmap_flower = SegmentationMapOnImage(flower, shape=shape, nb_classes=2)\n",
        "            im_flower = np.array(segmap_flower.draw_on_image(np.asarray(image))).reshape(np.asarray(image).shape)\n",
        "        else:\n",
        "            im_flower = np.asarray(image)\n",
        "        \n",
        "        if np.sum(gravel) > 0:\n",
        "            segmap_gravel = SegmentationMapOnImage(gravel, shape=shape, nb_classes=2)\n",
        "            im_gravel = np.array(segmap_gravel.draw_on_image(np.asarray(image))).reshape(np.asarray(image).shape)\n",
        "        else:\n",
        "            im_gravel = np.asarray(image)\n",
        "        \n",
        "        if np.sum(sugar) > 0:\n",
        "            segmap_sugar = SegmentationMapOnImage(sugar, shape=shape, nb_classes=2)\n",
        "            im_sugar = np.array(segmap_sugar.draw_on_image(np.asarray(image))).reshape(np.asarray(image).shape)\n",
        "        else:\n",
        "            im_sugar = np.asarray(image)\n",
        "        \n",
        "        # plot images and masks\n",
        "        ax[im, 0].imshow(im_fish)\n",
        "        ax[im, 0].axis('off')\n",
        "        ax[im, 0].set_title('Fish')\n",
        "        \n",
        "        # plot images and masks\n",
        "        ax[im, 1].imshow(im_flower)\n",
        "        ax[im, 1].axis('off')\n",
        "        ax[im, 1].set_title('Flower')\n",
        "        \n",
        "        # plot images and masks\n",
        "        ax[im, 2].imshow(im_gravel)\n",
        "        ax[im, 2].axis('off')\n",
        "        ax[im, 2].set_title('Gravel')\n",
        "        \n",
        "        # plot images and masks\n",
        "        ax[im, 3].imshow(im_sugar)\n",
        "        ax[im, 3].axis('off')\n",
        "        ax[im, 3].set_title('Sugar')\n",
        "        \n",
        "    plt.suptitle('Sample images from the train set')"
      ],
      "execution_count": 0,
      "outputs": []
    },
    {
      "cell_type": "code",
      "metadata": {
        "id": "u5n9PKc2sgcs",
        "colab_type": "code",
        "colab": {}
      },
      "source": [
        "plot_training_images_and_masks(n_images = 3)"
      ],
      "execution_count": 0,
      "outputs": []
    },
    {
      "cell_type": "markdown",
      "metadata": {
        "id": "RjdYIKnkv4YO",
        "colab_type": "text"
      },
      "source": [
        "#4. With imgaug we can visualize several segmentation maps on one image:"
      ]
    },
    {
      "cell_type": "code",
      "metadata": {
        "id": "Le5zjfzBsgR8",
        "colab_type": "code",
        "colab": {}
      },
      "source": [
        "def create_segmap(image_id):\n",
        "    '''\n",
        "    Helper function to create a segmentation map for an image by image filename\n",
        "    '''\n",
        "    # open the image\n",
        "    image = np.asarray(Image.open(image_id))\n",
        "    \n",
        "    # get masks for different classes\n",
        "    fish_mask = get_mask_by_image_id(image_id, 'Fish')\n",
        "    flower_mask = get_mask_by_image_id(image_id, 'Flower')\n",
        "    gravel_mask = get_mask_by_image_id(image_id, 'Gravel')\n",
        "    sugar_mask = get_mask_by_image_id(image_id, 'Sugar')\n",
        "    \n",
        "    # label numpy map with 4 classes\n",
        "    segmap = np.zeros((image.shape[0], image.shape[1]), dtype=np.int32)\n",
        "    segmap = np.where(fish_mask == 1, 1, segmap)\n",
        "    segmap = np.where(flower_mask == 1, 2, segmap)\n",
        "    segmap = np.where(gravel_mask == 1, 3, segmap)\n",
        "    segmap = np.where(sugar_mask == 1, 4, segmap)\n",
        "    \n",
        "    # create a segmantation map\n",
        "    segmap = SegmentationMapOnImage(segmap, shape=image.shape, nb_classes=5)\n",
        "    \n",
        "    return segmap"
      ],
      "execution_count": 0,
      "outputs": []
    },
    {
      "cell_type": "code",
      "metadata": {
        "id": "hQKs6i5esgQY",
        "colab_type": "code",
        "colab": {}
      },
      "source": [
        "def draw_labels(image, np_mask, label):\n",
        "    '''\n",
        "    Function to add labels to the image.\n",
        "    '''\n",
        "    if np.sum(np_mask) > 0:\n",
        "        x,y = 0,0\n",
        "        x,y = np.argwhere(np_mask==1)[0]\n",
        "                \n",
        "        image = imgaug.imgaug.draw_text(image, x, y, label, color=(255, 255, 255), size=50)\n",
        "    return image\n"
      ],
      "execution_count": 0,
      "outputs": []
    },
    {
      "cell_type": "code",
      "metadata": {
        "id": "jP_ZrR73sgON",
        "colab_type": "code",
        "colab": {}
      },
      "source": [
        "\n",
        "\n",
        "def draw_segmentation_maps(image_id):\n",
        "    '''\n",
        "    Helper function to draw segmantation maps and text.\n",
        "    '''\n",
        "    # open the image\n",
        "    image = np.asarray(Image.open(image_id))\n",
        "    \n",
        "    # get masks for different classes\n",
        "    fish_mask = get_mask_by_image_id(image_id, 'Fish')\n",
        "    flower_mask = get_mask_by_image_id(image_id, 'Flower')\n",
        "    gravel_mask = get_mask_by_image_id(image_id, 'Gravel')\n",
        "    sugar_mask = get_mask_by_image_id(image_id, 'Sugar')\n",
        "    \n",
        "    # label numpy map with 4 classes\n",
        "    segmap = create_segmap(image_id)\n",
        "    # draw the map on image\n",
        "    image = np.asarray(segmap.draw_on_image(np.asarray(image))).reshape(np.asarray(image).shape)\n",
        "    \n",
        "    image = draw_labels(image, fish_mask, 'Fish')\n",
        "    image = draw_labels(image, flower_mask, 'Flower')\n",
        "    image = draw_labels(image, gravel_mask, 'Gravel')\n",
        "    image = draw_labels(image, sugar_mask, 'Sugar')\n",
        "    \n",
        "    return image\n",
        "\n"
      ],
      "execution_count": 0,
      "outputs": []
    },
    {
      "cell_type": "code",
      "metadata": {
        "id": "pgRd-mpbvx-j",
        "colab_type": "code",
        "colab": {}
      },
      "source": [
        "# helper function to visualize several segmentation maps on a single image\n",
        "def visualize_several_maps(image_id):\n",
        "    '''\n",
        "    Function to visualize several segmentation maps.\n",
        "    INPUT:\n",
        "        image_id - filename of the image\n",
        "    '''\n",
        "    # open the image\n",
        "    image = np.asarray(Image.open(image_id))\n",
        "    \n",
        "    # draw segmentation maps and labels on image\n",
        "    image = draw_segmentation_maps(image_id)\n",
        "    \n",
        "    # visualize the image and map\n",
        "    side_by_side = np.hstack([\n",
        "        image\n",
        "    ])\n",
        "    labels = get_labels(image_id.split('/')[-1])\n",
        "\n",
        "    fig, ax = plt.subplots(figsize=(15, 7))\n",
        "    ax.axis('off')\n",
        "    plt.title('Segmentation maps:' + labels)\n",
        "    plt.legend()\n",
        "    \n",
        "    ax.imshow(side_by_side)"
      ],
      "execution_count": 0,
      "outputs": []
    },
    {
      "cell_type": "code",
      "metadata": {
        "id": "3Tx_kaVEuUr1",
        "colab_type": "code",
        "colab": {}
      },
      "source": [
        "# create list of all training images filenames\n",
        "train_fns = sorted(glob(TRAIN_PATH + '*.jpg'))\n",
        "\n",
        "# generate random index for an image\n",
        "np.random.seed(41)\n",
        "rnd_index = np.random.choice(range(len(train_fns)))\n",
        "\n",
        "# call helper function to visualize the image\n",
        "visualize_several_maps(train_fns[rnd_index])"
      ],
      "execution_count": 0,
      "outputs": []
    },
    {
      "cell_type": "markdown",
      "metadata": {
        "id": "ViV91YS2vYag",
        "colab_type": "text"
      },
      "source": [
        "#Now we can create a function to plot sample images with segmentation maps:"
      ]
    },
    {
      "cell_type": "code",
      "metadata": {
        "id": "Lzip88kYuUnr",
        "colab_type": "code",
        "colab": {}
      },
      "source": [
        "def plot_training_images_and_masks(width = 2, height = 3):\n",
        "    \"\"\"\n",
        "    Function to plot grid with several examples of cloud images from train set.\n",
        "    INPUT:\n",
        "        width - number of images per row\n",
        "        height - number of rows\n",
        "\n",
        "    OUTPUT: None\n",
        "    \"\"\"\n",
        "    \n",
        "    # get a list of images from training set\n",
        "    images = sorted(glob(TRAIN_PATH + '*.jpg'))\n",
        "    \n",
        "    fig, axs = plt.subplots(height, width, figsize=(20, 20))\n",
        "\n",
        "    # create a list of random indices \n",
        "    rnd_indices = rnd_indices = [np.random.choice(range(0, len(images))) for i in range(height * width)]\n",
        "    \n",
        "    for im in range(0, height * width):\n",
        "        # open image with a random index\n",
        "        image = Image.open(images[rnd_indices[im]])\n",
        "        # draw segmentation maps and labels on image\n",
        "        image = draw_segmentation_maps(images[rnd_indices[im]])\n",
        "        \n",
        "        i = im // width\n",
        "        j = im % width\n",
        "        \n",
        "        # plot the image\n",
        "        axs[i,j].imshow(image) #plot the data\n",
        "        axs[i,j].axis('off')\n",
        "        axs[i,j].set_title(get_labels(images[rnd_indices[im]].split('/')[-1]))\n",
        "\n",
        "    # set suptitle\n",
        "    plt.suptitle('Sample images from the train set')\n",
        "    plt.show()"
      ],
      "execution_count": 0,
      "outputs": []
    },
    {
      "cell_type": "code",
      "metadata": {
        "id": "q-MTEISpuUlp",
        "colab_type": "code",
        "colab": {}
      },
      "source": [
        "np.random.seed(42)\n",
        "plot_training_images_and_masks()"
      ],
      "execution_count": 0,
      "outputs": []
    },
    {
      "cell_type": "markdown",
      "metadata": {
        "id": "oB2nyu4rvNBd",
        "colab_type": "text"
      },
      "source": [
        "#4. Add data augmentation:\n",
        "\n",
        "Now we can easily add data augmentation to our images and segmentation maps with imgaug."
      ]
    },
    {
      "cell_type": "code",
      "metadata": {
        "id": "_UhgCk8juUjs",
        "colab_type": "code",
        "colab": {}
      },
      "source": [
        "# initialize augmentations\n",
        "seq = iaa.Sequential([\n",
        "    iaa.Affine(rotate=(-30, 30)),\n",
        "    iaa.Fliplr(0.5),\n",
        "    iaa.ElasticTransformation(alpha=10, sigma=1)\n",
        "])\n",
        "\n",
        "# generate random index for an image\n",
        "rnd_index = np.random.choice(range(len(train_fns)))\n",
        "img_id = train_fns[rnd_index]\n",
        "\n",
        "image = Image.open(img_id)\n",
        "segmap = create_segmap(img_id)\n",
        "\n",
        "\n",
        "# apply augmentation for image and mask\n",
        "image_aug, segmap_aug = seq(image=np.asarray(image), segmentation_maps=segmap)\n",
        "\n",
        "# visualize the image and map\n",
        "side_by_side = np.hstack([\n",
        "    draw_segmentation_maps(img_id),\n",
        "    np.asarray(segmap_aug.draw_on_image(image_aug)).reshape(np.asarray(image).shape)\n",
        "])\n",
        "\n",
        "labels = get_labels(img_id.split('/')[-1])\n",
        "\n",
        "fig, ax = plt.subplots(figsize=(15, 7))\n",
        "ax.axis('off')\n",
        "plt.title('Segmentation maps (original and augmented image):' + labels)\n",
        "plt.legend()\n",
        "\n",
        "ax.imshow(side_by_side)"
      ],
      "execution_count": 0,
      "outputs": []
    },
    {
      "cell_type": "markdown",
      "metadata": {
        "id": "dltfBowVvER0",
        "colab_type": "text"
      },
      "source": [
        "#5. Distribution of mask area sizes\n",
        "\n",
        "That's an interesting question. I'll observe the mask area sizes distribution for each label."
      ]
    },
    {
      "cell_type": "code",
      "metadata": {
        "id": "n2hdTCe5uUfF",
        "colab_type": "code",
        "colab": {}
      },
      "source": [
        "def add_mask_areas(train_df):\n",
        "    '''\n",
        "    Helper function to add mask area as a new column to the dataframe\n",
        "    INPUT:\n",
        "        train_df - dataset with training labels\n",
        "    '''\n",
        "    masks_df = train_df.copy()\n",
        "    masks_df['Area'] = 0\n",
        "        \n",
        "    for i, row in masks_df.iterrows():\n",
        "        masks_df['Area'].loc[i] = np.sum(get_mask(i))\n",
        "    \n",
        "    return masks_df"
      ],
      "execution_count": 0,
      "outputs": []
    },
    {
      "cell_type": "code",
      "metadata": {
        "id": "JyjzRhHtuUYZ",
        "colab_type": "code",
        "colab": {}
      },
      "source": [
        "masks_df = add_mask_areas(train_df)"
      ],
      "execution_count": 0,
      "outputs": []
    },
    {
      "cell_type": "markdown",
      "metadata": {
        "id": "JKVa7h_Gu3Cx",
        "colab_type": "text"
      },
      "source": [
        "#Plot the distribution of segmentation area masks for each label:"
      ]
    },
    {
      "cell_type": "code",
      "metadata": {
        "id": "iwfFD6X_uUVv",
        "colab_type": "code",
        "colab": {}
      },
      "source": [
        "# Plot Histograms and KDE plots\n",
        "plt.figure(figsize=(15,7))\n",
        "\n",
        "plt.subplot(221)\n",
        "sns.distplot(masks_df[masks_df['Label'] == 'Fish']['Area'].values, kde=False, label='Fish')\n",
        "plt.legend()\n",
        "plt.title('Mask Area Histogram : Fish', fontsize=15)\n",
        "\n",
        "plt.subplot(222)\n",
        "sns.distplot(masks_df[masks_df['Label'] == 'Gravel']['Area'].values, kde=False, label='Gravel')\n",
        "plt.legend()\n",
        "plt.title('Mask Area Histogram: Gravel', fontsize=15)\n",
        "\n",
        "plt.subplot(223)\n",
        "sns.distplot(masks_df[masks_df['Label'] == 'Flower']['Area'].values, kde=False, label='Flower')\n",
        "plt.legend()\n",
        "plt.title('Mask Area Histogram : Flower', fontsize=15)\n",
        "\n",
        "plt.subplot(224)\n",
        "sns.distplot(masks_df[masks_df['Label'] == 'Sugar']['Area'].values, kde=False, label='Sugar')\n",
        "plt.legend()\n",
        "plt.title('Mask Area Histogram: Sugar', fontsize=15)\n",
        "\n",
        "plt.tight_layout()\n",
        "plt.show()"
      ],
      "execution_count": 0,
      "outputs": []
    },
    {
      "cell_type": "code",
      "metadata": {
        "id": "DXSyJjxWuUSk",
        "colab_type": "code",
        "colab": {}
      },
      "source": [
        "plt.figure(figsize=(15,4))\n",
        "\n",
        "plt.subplot(111)\n",
        "sns.kdeplot(masks_df[masks_df['Label'] == 'Fish']['Area'].values, label='Fish')\n",
        "sns.kdeplot(masks_df[masks_df['Label'] == 'Flower']['Area'].values, label='Flower')\n",
        "sns.kdeplot(masks_df[masks_df['Label'] == 'Gravel']['Area'].values, label='Gravel')\n",
        "sns.kdeplot(masks_df[masks_df['Label'] == 'Sugar']['Area'].values, label='Sugar')\n",
        "plt.legend()\n",
        "\n",
        "plt.title('Mask Area KDE Plot', fontsize=15)"
      ],
      "execution_count": 0,
      "outputs": []
    },
    {
      "cell_type": "markdown",
      "metadata": {
        "id": "QUR_CQlFunaB",
        "colab_type": "text"
      },
      "source": [
        "#6. Number of masks per image"
      ]
    },
    {
      "cell_type": "code",
      "metadata": {
        "id": "C-4YyouduV-Y",
        "colab_type": "code",
        "colab": {}
      },
      "source": [
        "from scipy.ndimage import label, generate_binary_structure\n",
        "\n",
        "def add_mask_number(train_df):\n",
        "    '''\n",
        "    Helper function to add mask area as a new column to the dataframe\n",
        "    INPUT:\n",
        "        train_df - dataset with training labels\n",
        "    '''\n",
        "    masks_df = train_df.copy()\n",
        "    masks_df['NumMasks'] = 0\n",
        "    \n",
        "    s = generate_binary_structure(2,2)\n",
        "        \n",
        "    for i, row in masks_df.iterrows():\n",
        "        mask = get_mask(i)\n",
        "        \n",
        "        if np.sum(mask) > 0:\n",
        "            labeled_array, labels = label(mask, structure=s)\n",
        "            masks_df['NumMasks'].loc[i] = labels\n",
        "        else:\n",
        "            masks_df['NumMasks'].loc[i] = 0\n",
        "    \n",
        "    return masks_df"
      ],
      "execution_count": 0,
      "outputs": []
    },
    {
      "cell_type": "code",
      "metadata": {
        "id": "iahfCLuRuV7y",
        "colab_type": "code",
        "colab": {}
      },
      "source": [
        "masks_df = add_mask_number(masks_df)"
      ],
      "execution_count": 0,
      "outputs": []
    },
    {
      "cell_type": "code",
      "metadata": {
        "id": "udt4cbE9uV5N",
        "colab_type": "code",
        "colab": {}
      },
      "source": [
        "# Plot Histograms and KDE plots\n",
        "plt.figure(figsize=(15,7))\n",
        "\n",
        "plt.subplot(221)\n",
        "sns.distplot(masks_df[masks_df['Label'] == 'Fish']['NumMasks'].values, kde=False, label='Fish')\n",
        "plt.legend()\n",
        "plt.title('Number of Masks Histogram : Fish', fontsize=15)\n",
        "\n",
        "\n",
        "plt.subplot(222)\n",
        "sns.distplot(masks_df[masks_df['Label'] == 'Gravel']['NumMasks'].values, kde=False, label='Gravel')\n",
        "plt.legend()\n",
        "plt.title('Number of Masks Histogram: Gravel', fontsize=15)\n",
        "\n",
        "plt.subplot(223)\n",
        "sns.distplot(masks_df[masks_df['Label'] == 'Flower']['NumMasks'].values, kde=False, label='Flower')\n",
        "plt.legend()\n",
        "plt.title('Number of Masks Histogram : Flower', fontsize=15)\n",
        "\n",
        "plt.subplot(224)\n",
        "sns.distplot(masks_df[masks_df['Label'] == 'Sugar']['NumMasks'].values, kde=False, label='Sugar')\n",
        "plt.legend()\n",
        "plt.title('Number of Masks Histogram: Sugar', fontsize=15)\n",
        "\n",
        "plt.tight_layout()\n",
        "plt.show()"
      ],
      "execution_count": 0,
      "outputs": []
    },
    {
      "cell_type": "code",
      "metadata": {
        "id": "zRUtmCw3uV3S",
        "colab_type": "code",
        "colab": {}
      },
      "source": [
        "plt.figure(figsize=(15,4))\n",
        "\n",
        "plt.subplot(111)\n",
        "sns.kdeplot(masks_df[masks_df['Label'] == 'Fish']['NumMasks'].values, label='Fish')\n",
        "sns.kdeplot(masks_df[masks_df['Label'] == 'Flower']['NumMasks'].values, label='Flower')\n",
        "sns.kdeplot(masks_df[masks_df['Label'] == 'Gravel']['NumMasks'].values, label='Gravel')\n",
        "sns.kdeplot(masks_df[masks_df['Label'] == 'Sugar']['NumMasks'].values, label='Sugar')\n",
        "plt.legend()\n",
        "\n",
        "plt.title('Mask Area KDE Plot', fontsize=15)"
      ],
      "execution_count": 0,
      "outputs": []
    },
    {
      "cell_type": "code",
      "metadata": {
        "id": "YBWbOhbcuV1B",
        "colab_type": "code",
        "colab": {}
      },
      "source": [
        ""
      ],
      "execution_count": 0,
      "outputs": []
    },
    {
      "cell_type": "code",
      "metadata": {
        "id": "wFfelhHTsgH2",
        "colab_type": "code",
        "colab": {}
      },
      "source": [
        ""
      ],
      "execution_count": 0,
      "outputs": []
    }
  ]
}