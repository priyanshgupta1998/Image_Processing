{
  "nbformat": 4,
  "nbformat_minor": 0,
  "metadata": {
    "colab": {
      "name": "TensorFlow with GPU",
      "provenance": [],
      "collapsed_sections": [],
      "include_colab_link": true
    },
    "kernelspec": {
      "name": "python3",
      "display_name": "Python 3"
    },
    "accelerator": "GPU"
  },
  "cells": [
    {
      "cell_type": "markdown",
      "metadata": {
        "id": "view-in-github",
        "colab_type": "text"
      },
      "source": [
        "<a href=\"https://colab.research.google.com/github/priyanshgupta1998/Image_Processing/blob/master/Cloud_Detection_Satellite/source_code3.ipynb\" target=\"_parent\"><img src=\"https://colab.research.google.com/assets/colab-badge.svg\" alt=\"Open In Colab\"/></a>"
      ]
    },
    {
      "cell_type": "markdown",
      "metadata": {
        "id": "z1nBNcC_agkM",
        "colab_type": "text"
      },
      "source": [
        "#Understanding Clouds from Satellite Images  WITH \"EDA\""
      ]
    },
    {
      "cell_type": "code",
      "metadata": {
        "id": "Xpc_e0lhaCJY",
        "colab_type": "code",
        "colab": {}
      },
      "source": [
        "#Cloud_Detection_Satellite"
      ],
      "execution_count": 0,
      "outputs": []
    },
    {
      "cell_type": "code",
      "metadata": {
        "id": "YKfZeg1VaCMA",
        "colab_type": "code",
        "colab": {
          "resources": {
            "http://localhost:8080/nbextensions/google.colab/files.js": {
              "data": "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",
              "ok": true,
              "headers": [
                [
                  "content-type",
                  "application/javascript"
                ]
              ],
              "status": 200,
              "status_text": ""
            }
          },
          "base_uri": "https://localhost:8080/",
          "height": 74
        },
        "outputId": "061d8d9f-8b04-4444-de1c-0798a7ae75f0"
      },
      "source": [
        "from google.colab import files\n",
        "files.upload()\n",
        "!pip install -q kaggle\n",
        "!mkdir -p ~/.kaggle\n",
        "!cp kaggle.json ~/.kaggle/\n",
        "!chmod 600 ~/.kaggle/kaggle.json"
      ],
      "execution_count": 2,
      "outputs": [
        {
          "output_type": "display_data",
          "data": {
            "text/html": [
              "\n",
              "     <input type=\"file\" id=\"files-c8312188-b6b0-4c73-9553-a30fe2dedeaf\" name=\"files[]\" multiple disabled />\n",
              "     <output id=\"result-c8312188-b6b0-4c73-9553-a30fe2dedeaf\">\n",
              "      Upload widget is only available when the cell has been executed in the\n",
              "      current browser session. Please rerun this cell to enable.\n",
              "      </output>\n",
              "      <script src=\"/nbextensions/google.colab/files.js\"></script> "
            ],
            "text/plain": [
              "<IPython.core.display.HTML object>"
            ]
          },
          "metadata": {
            "tags": []
          }
        },
        {
          "output_type": "stream",
          "text": [
            "Saving kaggle.json to kaggle.json\n"
          ],
          "name": "stdout"
        }
      ]
    },
    {
      "cell_type": "code",
      "metadata": {
        "id": "Mu-JzepDaCN0",
        "colab_type": "code",
        "colab": {
          "base_uri": "https://localhost:8080/",
          "height": 238
        },
        "outputId": "f33b91eb-eb5e-4b1d-9209-22adeee6a7c2"
      },
      "source": [
        "!kaggle competitions download -c understanding_cloud_organization"
      ],
      "execution_count": 4,
      "outputs": [
        {
          "output_type": "stream",
          "text": [
            "Warning: Looks like you're using an outdated API Version, please consider updating (server 1.5.6 / client 1.5.4)\n",
            "Downloading train_images.zip to /content\n",
            "100% 3.44G/3.44G [00:45<00:00, 59.2MB/s]\n",
            "100% 3.44G/3.44G [00:45<00:00, 81.6MB/s]\n",
            "Downloading test_images.zip to /content\n",
            "100% 2.29G/2.30G [00:39<00:00, 70.3MB/s]\n",
            "100% 2.30G/2.30G [00:39<00:00, 62.0MB/s]\n",
            "Downloading train.csv.zip to /content\n",
            " 96% 52.0M/54.2M [00:00<00:00, 44.8MB/s]\n",
            "100% 54.2M/54.2M [00:01<00:00, 55.9MB/s]\n",
            "Downloading sample_submission.csv to /content\n",
            "  0% 0.00/321k [00:00<?, ?B/s]\n",
            "100% 321k/321k [00:00<00:00, 103MB/s]\n"
          ],
          "name": "stdout"
        }
      ]
    },
    {
      "cell_type": "code",
      "metadata": {
        "id": "RLfY5SChpKAp",
        "colab_type": "code",
        "colab": {}
      },
      "source": [
        "import numpy as np \n",
        "import pandas as pd\n",
        "import os\n",
        "import cv2\n",
        "# visualization\n",
        "import matplotlib.pyplot as plt\n",
        "from matplotlib import patches as patches\n",
        "# plotly offline imports\n",
        "from plotly.offline import download_plotlyjs, init_notebook_mode, iplot\n",
        "from plotly import subplots\n",
        "import plotly.express as px\n",
        "import plotly.figure_factory as ff\n",
        "from plotly.graph_objs import *\n",
        "from plotly.graph_objs.layout import Margin, YAxis, XAxis\n",
        "init_notebook_mode()\n",
        "# frequent pattern mining\n",
        "from mlxtend.frequent_patterns import fpgrowth"
      ],
      "execution_count": 0,
      "outputs": []
    },
    {
      "cell_type": "code",
      "metadata": {
        "id": "LfqnErpppKLx",
        "colab_type": "code",
        "colab": {}
      },
      "source": [
        "data_path = '/kaggle/input/understanding_cloud_organization'\n",
        "train_csv_path = os.path.join('/kaggle/input/understanding_cloud_organization','train.csv')\n",
        "train_image_path = os.path.join('/kaggle/input/understanding_cloud_organization','train_images')"
      ],
      "execution_count": 0,
      "outputs": []
    },
    {
      "cell_type": "code",
      "metadata": {
        "id": "hkkdQrLSpKS3",
        "colab_type": "code",
        "colab": {}
      },
      "source": [
        "pd.read_csv(train_csv_path).head()"
      ],
      "execution_count": 0,
      "outputs": []
    },
    {
      "cell_type": "code",
      "metadata": {
        "id": "f6d-5v7bpKlf",
        "colab_type": "code",
        "colab": {}
      },
      "source": [
        "# load full data and label no mask as -1\n",
        "train_df = pd.read_csv(train_csv_path).fillna(-1)"
      ],
      "execution_count": 0,
      "outputs": []
    },
    {
      "cell_type": "code",
      "metadata": {
        "id": "VYmqMbE6pKj7",
        "colab_type": "code",
        "colab": {}
      },
      "source": [
        "# image id and class id are two seperate entities and it makes it easier to split them up in two columns\n",
        "train_df['ImageId'] = train_df['Image_Label'].apply(lambda x: x.split('_')[0])\n",
        "train_df['Label'] = train_df['Image_Label'].apply(lambda x: x.split('_')[1])\n",
        "# lets create a dict with class id and encoded pixels and group all the defaults per image\n",
        "train_df['Label_EncodedPixels'] = train_df.apply(lambda row: (row['Label'], row['EncodedPixels']), axis = 1)"
      ],
      "execution_count": 0,
      "outputs": []
    },
    {
      "cell_type": "code",
      "metadata": {
        "id": "Nk-MAOIopKiq",
        "colab_type": "code",
        "colab": {}
      },
      "source": [
        "print('Total number of images: %s' % len(train_df['ImageId'].unique()))\n",
        "print('Images with at least one label: %s' % len(train_df[train_df['EncodedPixels'] != -1]['ImageId'].unique()))\n",
        "print('Total instance or examples of defects: %s' % len(train_df[train_df['EncodedPixels'] != -1]))"
      ],
      "execution_count": 0,
      "outputs": []
    },
    {
      "cell_type": "markdown",
      "metadata": {
        "id": "fjAc_nOLpgWW",
        "colab_type": "text"
      },
      "source": [
        "#Different Types of Clouds\n",
        "The first important thing I want to understand are the followings:\n",
        " \n",
        "What are the different types of clouds we have in our dataset.    \n",
        "How does the mask for these formation looks like.         \n",
        "Value cout of how many types of clouds we have per image.       \n",
        "Distribution / frequency of each types of clouds in our dataset.   "
      ]
    },
    {
      "cell_type": "code",
      "metadata": {
        "id": "4A5tENdPpKhX",
        "colab_type": "code",
        "colab": {}
      },
      "source": [
        "# different types of clouds we have in our dataset\n",
        "train_df['Label'].unique()"
      ],
      "execution_count": 0,
      "outputs": []
    },
    {
      "cell_type": "code",
      "metadata": {
        "id": "ymX8SUJCpKdW",
        "colab_type": "code",
        "colab": {}
      },
      "source": [
        "# visualize steel image with four classes of faults in seperate columns\n",
        "def viz_two_instance_of_a_mask(encoded_masks_1, encoded_masks_2):\n",
        "    '''\n",
        "    visualize an image with two types of defects by plotting them on two columns\n",
        "    with the defect overlayed on top of the original image.\n",
        "\n",
        "    Parameters: \n",
        "    img_path (str): path of images\n",
        "    img_id (str): image id or filename of the path\n",
        "    encoded_masks (list): a list of strings of encoded masks \n",
        "    \n",
        "    Returns: \n",
        "    matplotlib image plot in columns for two classes iwth defect\n",
        "    '''\n",
        "    \n",
        "    fig, ax = plt.subplots(nrows=1, ncols=2, sharey=True, figsize=(20,10))\n",
        "    axid = 0\n",
        "    for idx, encoded_mask in enumerate(encoded_masks):\n",
        "        class_id = idx + 1\n",
        "        if encoded_mask == -1:\n",
        "            pass\n",
        "        else:\n",
        "            mask_decoded = rle_to_mask(encoded_mask, 256, 1600)\n",
        "            ax[axid].get_xaxis().set_ticks([])\n",
        "            ax[axid].get_yaxis().set_ticks([])\n",
        "            ax[axid].text(0.25, 0.25, 'Image Id: %s - Class Id: %s' % (img_id, class_id), fontsize=12)\n",
        "            ax[axid].imshow(img)\n",
        "            ax[axid].imshow(mask_decoded, alpha=0.15, cmap=\"Blues\")\n",
        "            axid += 1"
      ],
      "execution_count": 0,
      "outputs": []
    },
    {
      "cell_type": "code",
      "metadata": {
        "id": "1Tev7t6DpKap",
        "colab_type": "code",
        "colab": {}
      },
      "source": [
        "# lets group each of the types and their mask in a list so we can do more aggregated counts\n",
        "grouped_EncodedPixels = train_df.groupby('ImageId')['Label_EncodedPixels'].apply(list)"
      ],
      "execution_count": 0,
      "outputs": []
    },
    {
      "cell_type": "code",
      "metadata": {
        "id": "_HBLluEapKY9",
        "colab_type": "code",
        "colab": {}
      },
      "source": [
        "# count the number of labels per image has\n",
        "labels_per_image_count = grouped_EncodedPixels.apply(lambda x: len([x[0] for x in x if x[1]!=-1])).value_counts()\n",
        "# count frequency of each type of cloud\n",
        "label_type_per_image = train_df[train_df['EncodedPixels']!=-1]['Label'].value_counts()"
      ],
      "execution_count": 0,
      "outputs": []
    },
    {
      "cell_type": "code",
      "metadata": {
        "id": "c72fa3eXpKXe",
        "colab_type": "code",
        "colab": {}
      },
      "source": [
        "# now we have the data ready lets plot them to answer our questions\n",
        "trace0 = Bar(x=labels_per_image_count.index, y=labels_per_image_count.values, name = 'Number of Cloud Types Per Image')\n",
        "trace1 = Bar(x=label_type_per_image.index, y=label_type_per_image.values, name = 'Frequency of Different Clouds')\n",
        "fig = subplots.make_subplots(rows=1, cols=2)\n",
        "fig.append_trace(trace0, 1, 1)\n",
        "fig.append_trace(trace1, 1, 2)\n",
        "fig['layout'].update(height=400, width=900, title='Label Count and Frequency Per Image')\n",
        "iplot(fig)"
      ],
      "execution_count": 0,
      "outputs": []
    },
    {
      "cell_type": "code",
      "metadata": {
        "id": "G-Zgl3YupKQu",
        "colab_type": "code",
        "colab": {}
      },
      "source": [
        "def rle_to_mask(rle_string, height, width):\n",
        "    '''\n",
        "    convert RLE(run length encoding) string to numpy array\n",
        "\n",
        "    Parameters: \n",
        "    rle_string (str): string of rle encoded mask\n",
        "    height (int): height of the mask\n",
        "    width (int): width of the mask \n",
        "\n",
        "    Returns: \n",
        "    numpy.array: numpy array of the mask\n",
        "    '''\n",
        "    \n",
        "    rows, cols = height, width\n",
        "    \n",
        "    if rle_string == -1:\n",
        "        return np.zeros((height, width))\n",
        "    else:\n",
        "        rle_numbers = [int(num_string) for num_string in rle_string.split(' ')]\n",
        "        rle_pairs = np.array(rle_numbers).reshape(-1,2)\n",
        "        img = np.zeros(rows*cols, dtype=np.uint8)\n",
        "        for index, length in rle_pairs:\n",
        "            index -= 1\n",
        "            img[index:index+length] = 255\n",
        "        img = img.reshape(cols,rows)\n",
        "        img = img.T\n",
        "        return img"
      ],
      "execution_count": 0,
      "outputs": []
    },
    {
      "cell_type": "code",
      "metadata": {
        "id": "Ts4mlV7EpKKK",
        "colab_type": "code",
        "colab": {}
      },
      "source": [
        "img = cv2.imread(os.path.join(train_image_path, train_df['ImageId'][0]))\n",
        "mask_decoded = rle_to_mask(train_df['Label_EncodedPixels'][0][1], img.shape[0], img.shape[1])\n",
        "fig, ax = plt.subplots(nrows=1, ncols=2, sharey=True, figsize=(20,10))\n",
        "ax[0].imshow(img)\n",
        "ax[1].imshow(mask_decoded)"
      ],
      "execution_count": 0,
      "outputs": []
    },
    {
      "cell_type": "code",
      "metadata": {
        "id": "AR_fo98DpKIM",
        "colab_type": "code",
        "colab": {}
      },
      "source": [
        "def bounding_box(img):\n",
        "    # return max and min of a mask to draw bounding box\n",
        "    rows = np.any(img, axis=1)\n",
        "    cols = np.any(img, axis=0)\n",
        "    rmin, rmax = np.where(rows)[0][[0, -1]]\n",
        "    cmin, cmax = np.where(cols)[0][[0, -1]]\n",
        "\n",
        "    return rmin, rmax, cmin, cmax"
      ],
      "execution_count": 0,
      "outputs": []
    },
    {
      "cell_type": "code",
      "metadata": {
        "id": "sRe2sNKXpKGH",
        "colab_type": "code",
        "colab": {}
      },
      "source": [
        "def plot_cloud(img_path, img_id, label_mask):\n",
        "    img = cv2.imread(os.path.join(img_path, img_id))\n",
        "    \n",
        "    fig, ax = plt.subplots(nrows=1, ncols=2, sharey=True, figsize=(20,10))\n",
        "    ax[0].imshow(img)\n",
        "    ax[1].imshow(img)\n",
        "    cmaps = {'Fish': 'Blues', 'Flower': 'Reds', 'Gravel': 'Greys', 'Sugar':'Purples'}\n",
        "    colors = {'Fish': 'Blue', 'Flower': 'Red', 'Gravel': 'Gray', 'Sugar':'Purple'}\n",
        "    for label, mask in label_mask:\n",
        "        mask_decoded = rle_to_mask(mask, img.shape[0], img.shape[1])\n",
        "        if mask != -1:\n",
        "            rmin, rmax, cmin, cmax = bounding_box(mask_decoded)\n",
        "            bbox = patches.Rectangle((cmin,rmin),cmax-cmin,rmax-rmin,linewidth=1,edgecolor=colors[label],facecolor='none')\n",
        "            ax[0].add_patch(bbox)\n",
        "            ax[0].text(cmin, rmin, label, bbox=dict(fill=True, color=colors[label]))\n",
        "            ax[1].imshow(mask_decoded, alpha=0.3, cmap=cmaps[label])\n",
        "            ax[0].text(cmin, rmin, label, bbox=dict(fill=True, color=colors[label]))"
      ],
      "execution_count": 0,
      "outputs": []
    },
    {
      "cell_type": "code",
      "metadata": {
        "id": "r5WJGfF-pKEP",
        "colab_type": "code",
        "colab": {}
      },
      "source": [
        "for image_id, label_mask in grouped_EncodedPixels.sample(10).iteritems():\n",
        "    plot_cloud(train_image_path, image_id, label_mask)"
      ],
      "execution_count": 0,
      "outputs": []
    },
    {
      "cell_type": "markdown",
      "metadata": {
        "id": "kCDK7DEqq-Km",
        "colab_type": "text"
      },
      "source": [
        "#Zooming In To The Cloud Formations\n",
        "In the last section, we visualized many types of cloud formation at once. This visualization is good as it gives us a good high level picture of our training images. Also, excuse me for the terrible pun. However, in this section we will zoom into the different type of cloud formations by using the mask to mute out the section that doesn't belong to the type of cloud formation we are interested in. Our main question for this section is the following:\n",
        "\n",
        "How do different types of cloud formations look like to the naked eye."
      ]
    },
    {
      "cell_type": "code",
      "metadata": {
        "id": "mG7VgdTGpJ_C",
        "colab_type": "code",
        "colab": {}
      },
      "source": [
        ""
      ],
      "execution_count": 0,
      "outputs": []
    },
    {
      "cell_type": "code",
      "metadata": {
        "id": "rXTFpXaVrD0F",
        "colab_type": "code",
        "colab": {}
      },
      "source": [
        ""
      ],
      "execution_count": 0,
      "outputs": []
    },
    {
      "cell_type": "code",
      "metadata": {
        "id": "ptgEAg5qrDy9",
        "colab_type": "code",
        "colab": {}
      },
      "source": [
        "def get_mask_cloud(img_path, img_id, label, mask):\n",
        "    img = cv2.imread(os.path.join(img_path, img_id), 0)\n",
        "    mask_decoded = rle_to_mask(mask, img.shape[0], img.shape[1])\n",
        "    mask_decoded = (mask_decoded > 0.0).astype(int)\n",
        "    img = np.multiply(img, mask_decoded)\n",
        "    return img"
      ],
      "execution_count": 0,
      "outputs": []
    },
    {
      "cell_type": "code",
      "metadata": {
        "id": "e7E4-5S8rDxg",
        "colab_type": "code",
        "colab": {}
      },
      "source": [
        "def draw_label_only(label):\n",
        "    samples_df = train_df[(train_df['EncodedPixels']!=-1) & (train_df['Label']==label)].sample(2)\n",
        "    count = 0\n",
        "    fig, ax = plt.subplots(nrows=1, ncols=2, sharey=True, figsize=(20,10))\n",
        "    for idx, sample in samples_df.iterrows():\n",
        "        img = get_mask_cloud(train_image_path, sample['ImageId'], sample['Label'],sample['EncodedPixels'])\n",
        "        ax[count].imshow(img, cmap=\"gray\")\n",
        "        count += 1"
      ],
      "execution_count": 0,
      "outputs": []
    },
    {
      "cell_type": "markdown",
      "metadata": {
        "id": "0U7MklX1sIyw",
        "colab_type": "text"
      },
      "source": [
        "#Fish Cloud Formation"
      ]
    },
    {
      "cell_type": "code",
      "metadata": {
        "id": "0Va75h6frDv7",
        "colab_type": "code",
        "colab": {}
      },
      "source": [
        "draw_label_only('Fish')"
      ],
      "execution_count": 0,
      "outputs": []
    },
    {
      "cell_type": "markdown",
      "metadata": {
        "id": "rin8UaUGsEU_",
        "colab_type": "text"
      },
      "source": [
        "#Flower Cloud Formation"
      ]
    },
    {
      "cell_type": "code",
      "metadata": {
        "id": "_rpuzLUzrDuE",
        "colab_type": "code",
        "colab": {}
      },
      "source": [
        "draw_label_only('Flower')"
      ],
      "execution_count": 0,
      "outputs": []
    },
    {
      "cell_type": "markdown",
      "metadata": {
        "id": "hDYKfP-8r_QV",
        "colab_type": "text"
      },
      "source": [
        "#Gravel Cloud Formation"
      ]
    },
    {
      "cell_type": "code",
      "metadata": {
        "id": "t08c_yb1rDsL",
        "colab_type": "code",
        "colab": {}
      },
      "source": [
        "draw_label_only('Gravel')"
      ],
      "execution_count": 0,
      "outputs": []
    },
    {
      "cell_type": "markdown",
      "metadata": {
        "id": "jT0Xsb8Wr6OZ",
        "colab_type": "text"
      },
      "source": [
        "#Sugar Cloud Formation"
      ]
    },
    {
      "cell_type": "code",
      "metadata": {
        "id": "jdzJbWz1rDqO",
        "colab_type": "code",
        "colab": {}
      },
      "source": [
        "draw_label_only('Sugar')"
      ],
      "execution_count": 0,
      "outputs": []
    },
    {
      "cell_type": "markdown",
      "metadata": {
        "id": "c-Qhu-JBr0l4",
        "colab_type": "text"
      },
      "source": [
        "Well, I sort of get the sense why the cloud formations are called what they are called. What I am afraid of is often times, it seems like there is a little bit of cloud formation from one type overlaps with cloud formation of another type. I am interested to see how our algorithm performs in these scenarios.\n",
        "\n",
        "Cloud That Forms Together Stays Together\n",
        "As we saw in the previous visualizations, it's very common for multiple cloud formations to be present in a single image. In this section we want to answer:\n",
        "\n",
        "Which cloud formations occur frequently.\n",
        "Which cloud formations hardly ever appears together.\n",
        "To do this, we will use a really simple data mining algorithm called Frequent Pattern Mining. FP Growth is a particular algorithmic implementation of Frequent Pattern, which aims to identify items that appear frequently together in a list."
      ]
    },
    {
      "cell_type": "code",
      "metadata": {
        "id": "JwH-Af-ArDod",
        "colab_type": "code",
        "colab": {}
      },
      "source": [
        "# create a series with fault classes\n",
        "label_per_image = grouped_EncodedPixels.apply(lambda encoded_list: [x[0] for x in encoded_list if x[1] != -1])"
      ],
      "execution_count": 0,
      "outputs": []
    },
    {
      "cell_type": "code",
      "metadata": {
        "id": "p9k7hlKFrDmL",
        "colab_type": "code",
        "colab": {}
      },
      "source": [
        "# create a list of dict with count of each fault class\n",
        "label_per_image_list = []\n",
        "for r in label_per_image.iteritems():\n",
        "    label_count = {'Fish':0,'Flower':0,'Gravel':0,'Sugar':0}\n",
        "    # go over each class and \n",
        "    for image_label in r[1]:\n",
        "        label_count[image_label] = 1\n",
        "    label_per_image_list.append(label_count)"
      ],
      "execution_count": 0,
      "outputs": []
    },
    {
      "cell_type": "code",
      "metadata": {
        "id": "swgb3XlirDkG",
        "colab_type": "code",
        "colab": {}
      },
      "source": [
        "# do FP calculation with all image\n",
        "label_per_image_df = pd.DataFrame(label_per_image_list)\n",
        "label_fp_df = fpgrowth(label_per_image_df, use_colnames=True, min_support=0.001)\n",
        "label_fp_df = label_fp_df.sort_values(by=['support'])\n",
        "label_combi_fp_df = label_fp_df[label_fp_df['itemsets'].apply(lambda x: len(x) > 1)]\n",
        "label_combi_fp_df['itemsets'] = label_combi_fp_df['itemsets'].apply(lambda x: ', '.join(x))"
      ],
      "execution_count": 0,
      "outputs": []
    },
    {
      "cell_type": "code",
      "metadata": {
        "id": "HoLdoohVrDh5",
        "colab_type": "code",
        "colab": {}
      },
      "source": [
        "fig = px.bar(label_combi_fp_df, x=\"support\", y=\"itemsets\", orientation='h', \\\n",
        "            title='Frequent Patterns of The Cloud Formation')\n",
        "fig.show()"
      ],
      "execution_count": 0,
      "outputs": []
    },
    {
      "cell_type": "markdown",
      "metadata": {
        "id": "pKQjf4LyrXsu",
        "colab_type": "text"
      },
      "source": [
        "Sugar cloud formation frequently appears together in the images with Gravel or Fish cloud formation. Sugar also appears with Flower cloud formation but is less frequent. Gravels and Fish cloud formation also appears with other cloud formation. Sugar, Gravel, and Fish also appears all together in some instances.\n",
        "\n",
        "Flower tends to occur less frequently with other clouds, and the combination of Gravel and Flower occurs but at much less frequency compared to others. In fact, Sugar, Gravel, and Fish appear all together more frequently than Grave and Flower. However, it's not like Flower cloud formation never occurs with other cloud formation, just occurs less frequently compared to others.\n",
        "\n",
        "In summary, they are all combination of cloud formations appearing together is a possibility, and the combinations between Sugar, Fish, and Gravel are more likely than with Flower cloud formation.\n",
        "\n",
        "Surface Area Ratio Per Cloud Formation\n",
        "In this section we are interested in the following questions:\n",
        "\n",
        "How does the distribution of the surface area for different cloud formation masks look like?\n",
        "Are there any types of cloud formations that appear very frequently but have a very small surface area in our training dataset?"
      ]
    },
    {
      "cell_type": "code",
      "metadata": {
        "id": "KJvCvS_DrDfL",
        "colab_type": "code",
        "colab": {}
      },
      "source": [
        "# we will use the following function to decode our mask to binary and count the sum of the pixels for our mask.\n",
        "def get_binary_mask_sum(encoded_mask):\n",
        "    mask_decoded = rle_to_mask(encoded_mask, width=2100, height=1400)\n",
        "    binary_mask = (mask_decoded > 0.0).astype(int)\n",
        "    return binary_mask.sum()"
      ],
      "execution_count": 0,
      "outputs": []
    },
    {
      "cell_type": "code",
      "metadata": {
        "id": "odwtPLW3rDZ2",
        "colab_type": "code",
        "colab": {}
      },
      "source": [
        "# calculate sum of the pixels for the mask per cloud formation\n",
        "train_df['mask_pixel_sum'] = train_df.apply(lambda x: get_binary_mask_sum(x['EncodedPixels']), axis=1)"
      ],
      "execution_count": 0,
      "outputs": []
    },
    {
      "cell_type": "code",
      "metadata": {
        "id": "UNbQKdtopJ8V",
        "colab_type": "code",
        "colab": {}
      },
      "source": [
        "# plot a histogram and boxplot combined of the mask pixel sum per cloud formation\n",
        "fig = px.histogram(train_df[train_df['mask_pixel_sum']!=0][['Label','mask_pixel_sum']], \n",
        "                   x=\"mask_pixel_sum\", y=\"Label\", color=\"Label\", marginal=\"box\")\n",
        "\n",
        "fig['layout'].update(title='Histogram and Boxplot of Sum of Mask Pixels Per Cloud Formation')\n",
        "\n",
        "fig.show()"
      ],
      "execution_count": 0,
      "outputs": []
    }
  ]
}