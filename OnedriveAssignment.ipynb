{
  "nbformat": 4,
  "nbformat_minor": 0,
  "metadata": {
    "colab": {
      "name": "TensorFlow with GPU",
      "provenance": [],
      "collapsed_sections": [],
      "include_colab_link": true
    },
    "kernelspec": {
      "name": "python3",
      "display_name": "Python 3"
    },
    "accelerator": "GPU"
  },
  "cells": [
    {
      "cell_type": "markdown",
      "metadata": {
        "id": "view-in-github",
        "colab_type": "text"
      },
      "source": [
        "<a href=\"https://colab.research.google.com/github/priyanshgupta1998/Image_Processing/blob/master/OnedriveAssignment.ipynb\" target=\"_parent\"><img src=\"https://colab.research.google.com/assets/colab-badge.svg\" alt=\"Open In Colab\"/></a>"
      ]
    },
    {
      "cell_type": "code",
      "metadata": {
        "id": "g-_WprmFA8OV",
        "colab_type": "code",
        "colab": {}
      },
      "source": [
        ""
      ],
      "execution_count": 0,
      "outputs": []
    },
    {
      "cell_type": "code",
      "metadata": {
        "id": "ie-oi1BsCdO6",
        "colab_type": "code",
        "colab": {
          "base_uri": "https://localhost:8080/",
          "height": 122
        },
        "outputId": "116a5d70-0bed-445d-8fa5-b661e7903704"
      },
      "source": [
        "from google.colab import drive\n",
        "drive.mount('/content/drive')"
      ],
      "execution_count": 6,
      "outputs": [
        {
          "output_type": "stream",
          "text": [
            "Go to this URL in a browser: https://accounts.google.com/o/oauth2/auth?client_id=947318989803-6bn6qk8qdgf4n4g3pfee6491hc0brc4i.apps.googleusercontent.com&redirect_uri=urn%3aietf%3awg%3aoauth%3a2.0%3aoob&response_type=code&scope=email%20https%3a%2f%2fwww.googleapis.com%2fauth%2fdocs.test%20https%3a%2f%2fwww.googleapis.com%2fauth%2fdrive%20https%3a%2f%2fwww.googleapis.com%2fauth%2fdrive.photos.readonly%20https%3a%2f%2fwww.googleapis.com%2fauth%2fpeopleapi.readonly\n",
            "\n",
            "Enter your authorization code:\n",
            "··········\n",
            "Mounted at /content/drive\n"
          ],
          "name": "stdout"
        }
      ]
    },
    {
      "cell_type": "code",
      "metadata": {
        "id": "BstFMCL7DlTD",
        "colab_type": "code",
        "colab": {
          "base_uri": "https://localhost:8080/",
          "height": 34
        },
        "outputId": "776656d6-ef0e-4010-dc26-7d397270e114"
      },
      "source": [
        "cd /content/drive/My Drive/onedrive_assign/"
      ],
      "execution_count": 27,
      "outputs": [
        {
          "output_type": "stream",
          "text": [
            "/content/drive/My Drive/onedrive_assign\n"
          ],
          "name": "stdout"
        }
      ]
    },
    {
      "cell_type": "code",
      "metadata": {
        "id": "esHMvIkCEFw0",
        "colab_type": "code",
        "colab": {
          "base_uri": "https://localhost:8080/",
          "height": 34
        },
        "outputId": "e45feae1-5b79-4fb8-81e1-2a0d712ed166"
      },
      "source": [
        "import os\n",
        "print(os.listdir())"
      ],
      "execution_count": 28,
      "outputs": [
        {
          "output_type": "stream",
          "text": [
            "['test.zip', 'train.zip']\n"
          ],
          "name": "stdout"
        }
      ]
    },
    {
      "cell_type": "code",
      "metadata": {
        "id": "MvyEehtSCcYo",
        "colab_type": "code",
        "colab": {}
      },
      "source": [
        "!unzip 'train.zip'"
      ],
      "execution_count": 0,
      "outputs": []
    },
    {
      "cell_type": "code",
      "metadata": {
        "id": "bnB6790xCcW4",
        "colab_type": "code",
        "colab": {}
      },
      "source": [
        "!unzip 'test.zip'"
      ],
      "execution_count": 0,
      "outputs": []
    },
    {
      "cell_type": "code",
      "metadata": {
        "id": "nRmW5TAfCcVG",
        "colab_type": "code",
        "colab": {
          "base_uri": "https://localhost:8080/",
          "height": 80
        },
        "outputId": "c4b714b8-483e-4be4-b092-889b344aa274"
      },
      "source": [
        "\n",
        "import tensorflow.keras.layers as Layers\n",
        "import tensorflow.keras.activations as Actications\n",
        "import tensorflow.keras.models as Models\n",
        "import tensorflow.keras.optimizers as Optimizer\n",
        "import tensorflow.keras.metrics as Metrics\n",
        "import tensorflow.keras.utils as Utils\n",
        "from keras.utils.vis_utils import model_to_dot\n",
        "\n",
        "import os\n",
        "import matplotlib.pyplot as plot\n",
        "import cv2\n",
        "import numpy as np\n",
        "\n",
        "from sklearn.utils import shuffle\n",
        "from sklearn.metrics import confusion_matrix as CM\n",
        "from random import randint\n",
        "from IPython.display import SVG\n",
        "import matplotlib.gridspec as gridspec"
      ],
      "execution_count": 33,
      "outputs": [
        {
          "output_type": "display_data",
          "data": {
            "text/html": [
              "<p style=\"color: red;\">\n",
              "The default version of TensorFlow in Colab will soon switch to TensorFlow 2.x.<br>\n",
              "We recommend you <a href=\"https://www.tensorflow.org/guide/migrate\" target=\"_blank\">upgrade</a> now \n",
              "or ensure your notebook will continue to use TensorFlow 1.x via the <code>%tensorflow_version 1.x</code> magic:\n",
              "<a href=\"https://colab.research.google.com/notebooks/tensorflow_version.ipynb\" target=\"_blank\">more info</a>.</p>\n"
            ],
            "text/plain": [
              "<IPython.core.display.HTML object>"
            ]
          },
          "metadata": {
            "tags": []
          }
        },
        {
          "output_type": "stream",
          "text": [
            "Using TensorFlow backend.\n"
          ],
          "name": "stderr"
        }
      ]
    },
    {
      "cell_type": "code",
      "metadata": {
        "id": "q2FR5MEHCcTS",
        "colab_type": "code",
        "colab": {
          "base_uri": "https://localhost:8080/",
          "height": 54
        },
        "outputId": "11065afe-f03c-4a66-ce90-a2ae6e0ec522"
      },
      "source": [
        "print(os.listdir())"
      ],
      "execution_count": 34,
      "outputs": [
        {
          "output_type": "stream",
          "text": [
            "['test.zip', 'train.zip', '20191005_214300516_iOS.jpg', '20191006_032519088_iOS.jpg', '20191006_032448179_iOS.jpg', '20191006_032444506_iOS.jpg', '20191006_032412724_iOS.jpg', '20191006_032409760_iOS.jpg', '20191005_220555543_iOS.jpg', '20191005_220543495_iOS.jpg', '20191005_220531929_iOS.jpg', '20191005_220507838_iOS.jpg', '20191005_220459967_iOS.jpg', '20191005_220448174_iOS.jpg', '20191005_220445481_iOS.jpg', '20191005_220442344_iOS.jpg', '20191005_220439412_iOS.jpg', '20191005_220436511_iOS.jpg', '20191005_220406800_iOS.jpg', '20191005_220347891_iOS.jpg', '20191005_220327877_iOS.jpg', '20191005_220308574_iOS.jpg', '20191005_220306015_iOS.jpg', '20191005_220259270_iOS.jpg', '20191005_220254138_iOS.jpg', '20191005_220250462_iOS.jpg', '20191005_220213976_iOS.jpg', '20191005_220206440_iOS.jpg', '20191005_220159638_iOS.jpg', '20191005_220149513_iOS.jpg', '20191005_220145863_iOS.jpg', '20191005_220108553_iOS.jpg', '20191005_220055826_iOS.jpg', '20191005_220046452_iOS.jpg', '20191005_220037372_iOS.jpg', '20191005_220034253_iOS.jpg', '20191005_215947642_iOS.jpg', '20191005_215927761_iOS.jpg', '20191005_215919881_iOS.jpg', '20191005_215912314_iOS.jpg', '20191005_215833582_iOS.jpg', '20191005_215824788_iOS.jpg', '20191005_215808574_iOS.jpg', '20191005_215743559_iOS.jpg', '20191005_215733575_iOS.jpg', '20191005_215643216_iOS.jpg', '20191005_215639987_iOS.jpg', '20191005_215635390_iOS.jpg', '20191005_215632380_iOS.jpg', '20191005_215624640_iOS.jpg', '20191005_215618653_iOS.jpg', '20191005_215610901_iOS.jpg', '20191005_215608297_iOS.jpg', '20191005_215532314_iOS.jpg', '20191005_215527319_iOS.jpg', '20191005_215503731_iOS.jpg', '20191005_215453464_iOS.jpg', '20191005_215415181_iOS.jpg', '20191005_215412255_iOS.jpg', '20191005_215344575_iOS.jpg', '20191005_215339759_iOS.jpg', '20191005_215333189_iOS.jpg', '20191005_215302928_iOS.jpg', '20191005_215256591_iOS.jpg', '20191005_215239201_iOS.jpg', '20191005_215227376_iOS.jpg', '20191005_215222907_iOS.jpg', '20191005_215207551_iOS.jpg', '20191005_215201386_iOS.jpg', '20191005_215153240_iOS.jpg', '20191005_215146369_iOS.jpg', '20191005_215143600_iOS.jpg', '20191005_215109813_iOS.jpg', '20191005_215106612_iOS.jpg', '20191005_215031928_iOS.jpg', '20191005_215009422_iOS.jpg', '20191005_214955737_iOS.jpg', '20191005_214947567_iOS.jpg', '20191005_214824501_iOS.jpg', '20191005_214817818_iOS.jpg', '20191005_214743712_iOS.jpg', '20191005_214731254_iOS.jpg', '20191005_214712491_iOS.jpg', '20191005_214652913_iOS.jpg', '20191005_214639625_iOS.jpg', '20191005_214631782_iOS.jpg', '20191005_214556538_iOS.jpg', '20191005_214553370_iOS.jpg', '20191005_214546573_iOS.jpg', '20191005_214541669_iOS.jpg', '20191005_214507687_iOS.jpg', '20191005_214503006_iOS.jpg', '20191005_214459843_iOS.jpg', '20191005_214452501_iOS.jpg', '20191005_214448088_iOS.jpg', '20191005_214444594_iOS.jpg', '20191005_214441315_iOS.jpg', '20191005_214435320_iOS.jpg', '20191005_214430454_iOS.jpg', '20191005_214427207_iOS.jpg', '20191005_214358620_iOS.jpg', '20191005_214349012_iOS.jpg', '20191005_214344839_iOS.jpg', '20191005_214341834_iOS.jpg', '20191005_214329610_iOS.jpg', '20191005_214309191_iOS.jpg', '20191005_214306227_iOS.jpg', '20191005_214255988_iOS.jpg', '20191005_214250848_iOS.jpg', '20191005_214241012_iOS.jpg', '20191005_214233069_iOS.jpg', '20191005_214227788_iOS.jpg', '20191005_214223687_iOS.jpg', '20191005_214157837_iOS.jpg', '20191005_214146300_iOS.jpg', '20191005_214139587_iOS.jpg', '20191005_214137311_iOS.jpg', '20191005_214129456_iOS.jpg', '20191005_214122225_iOS.jpg', '20191005_214050405_iOS.jpg', '20191005_214041307_iOS.jpg', '20191005_214025201_iOS.jpg', '20191005_214015903_iOS.jpg', '20191005_214012201_iOS.jpg', '20191005_214007765_iOS.jpg', '20191005_214002108_iOS.jpg', '20191005_213703845_iOS.jpg', '20191005_212850092_iOS.jpg', '20191005_212833846_iOS.jpg', '20191005_212816497_iOS.jpg', '20191005_212758250_iOS.jpg', '20191005_212721902_iOS.jpg', '20191005_212715863_iOS.jpg', '20191005_212709192_iOS.jpg', '20191005_212703967_iOS.jpg', '20191005_212700646_iOS.jpg', '20191005_212654482_iOS.jpg', '20191005_212526588_iOS.jpg', '20191005_212316390_iOS.jpg', '20191005_212232745_iOS.jpg', '20191005_210427782_iOS.jpg', '20191005_210353121_iOS.jpg', '20191005_210319317_iOS.jpg', '20191005_210115663_iOS.jpg', '20191005_210020067_iOS.jpg', '20191005_205949815_iOS.jpg', '20191005_205936941_iOS.jpg', '20191005_205906725_iOS.jpg', '20191005_205851765_iOS.jpg', '20191005_205847129_iOS.jpg', '20191005_205817235_iOS.jpg', '20191005_205649976_iOS.jpg', '20191005_205601173_iOS.jpg', '20191005_205542463_iOS.jpg', '20191005_205536696_iOS.jpg', '20191005_205516166_iOS.jpg', '20191005_205446680_iOS.jpg', '20191005_205424830_iOS.jpg', '20191005_205422266_iOS.jpg', '20191005_205401871_iOS.jpg', '20191005_205324061_iOS.jpg', '20191005_205321570_iOS.jpg', '20191005_205317440_iOS.jpg', '20191005_205219660_iOS.jpg', '20191005_205117350_iOS.jpg', '20191005_205053516_iOS.jpg', '20191005_204953329_iOS.jpg', '20191005_204847959_iOS.jpg', '20191005_204819098_iOS.jpg', '20191005_204809296_iOS.jpg', '20191005_204748045_iOS.jpg', '20191005_204740446_iOS.jpg', '20191005_204545860_iOS.jpg', '20191005_204522459_iOS.jpg', '20191005_204516894_iOS.jpg', '20191005_204459557_iOS.jpg', '20191005_204440848_iOS.jpg', '20191005_204401246_iOS.jpg', '20191005_204349046_iOS.jpg', '20191005_204156237_iOS.jpg', '20191005_204108770_iOS.jpg', '20191005_204000845_iOS.jpg', '20191005_203955949_iOS.jpg', '20191005_203914627_iOS.jpg', '20191005_203856820_iOS.jpg', '20191005_203844785_iOS.jpg', '20191005_203841781_iOS.jpg', '20191005_203837671_iOS.jpg', '20191005_203826749_iOS.jpg', '20191005_203743326_iOS.jpg', '20191005_203717405_iOS.jpg', '20191005_203703506_iOS.jpg', '20191005_203643915_iOS.jpg', '20191005_203604705_iOS.jpg', '20191005_203545494_iOS.jpg', '20191005_203254128_iOS.jpg', '20191005_191545753_iOS.jpg', '20191116_211804581_iOS.jpg', '20191116_211813587_iOS.jpg', '20191116_211826230_iOS.jpg', '20191116_211916480_iOS.jpg', '20191116_211921884_iOS.jpg', '20191116_211934601_iOS.jpg', '20191116_211951896_iOS.jpg', '20191116_212023382_iOS.jpg', '20191116_212121963_iOS.jpg', '20191116_212153203_iOS.jpg', '20191116_212219307_iOS.jpg', '20191116_212223944_iOS.jpg', '20191116_212323803_iOS.jpg', '20191116_212327773_iOS.jpg', '20191116_212331876_iOS.jpg', '20191116_212410903_iOS.jpg', '20191116_212433606_iOS.jpg', '20191116_212452552_iOS.jpg', '20191116_212526177_iOS.jpg', '20191116_212531247_iOS.jpg', '20191116_212610428_iOS.jpg', '20191116_212615997_iOS.jpg', '20191116_212649524_iOS.jpg', '20191116_212743501_iOS.jpg', '20191116_212748338_iOS.jpg', '20191116_212827833_iOS.jpg', '20191116_212836373_iOS.jpg', '20191116_212916686_iOS.jpg', '20191116_212936955_iOS.jpg', '20191116_213015601_iOS.jpg', '20191116_213107441_iOS.jpg', '20191116_213153814_iOS.jpg', '20191116_213223736_iOS.jpg', '20191116_213245187_iOS.jpg', '20191116_213256762_iOS.jpg', '20191116_213323548_iOS.jpg', '20191116_213412239_iOS.jpg', '20191116_213446052_iOS.jpg', '20191116_213554411_iOS.jpg', '20191116_213602384_iOS.jpg', '20191116_213627836_iOS.jpg', '20191116_213634541_iOS.jpg', '20191116_213648667_iOS.jpg', '20191116_213714475_iOS.jpg', '20191116_213738290_iOS.jpg', '20191116_213741192_iOS.jpg', '20191116_213745028_iOS.jpg', '20191116_213920503_iOS.jpg', '20191116_214013193_iOS.jpg', '20191116_214033878_iOS.jpg', '20191116_214201657_iOS.jpg', '20191116_214258806_iOS.jpg', '20191116_214412176_iOS.jpg', '20191116_214417313_iOS.jpg', '20191116_214505069_iOS.jpg', '20191116_214507838_iOS.jpg', '20191116_214540126_iOS.jpg', '20191116_214602157_iOS.jpg', '20191116_214618500_iOS.jpg', '20191116_214638446_iOS.jpg', '20191116_214642248_iOS.jpg', '20191116_214649187_iOS.jpg', '20191116_214721246_iOS.jpg', '20191116_214732352_iOS.jpg', '20191116_214735955_iOS.jpg', '20191116_214740892_iOS.jpg', '20191116_214743294_iOS.jpg', '20191116_214749665_iOS.jpg', '20191116_214753434_iOS.jpg', '20191116_214806182_iOS.jpg', '20191116_214810118_iOS.jpg', '20191116_214819893_iOS.jpg', '20191116_214839785_iOS.jpg', '20191116_214843054_iOS.jpg', '20191116_214846356_iOS.jpg', '20191116_214853995_iOS.jpg', '20191116_214901734_iOS.jpg', '20191116_214904303_iOS.jpg', '20191116_214918824_iOS.jpg', '20191116_214929699_iOS.jpg', '20191116_214959745_iOS.jpg', '20191116_215012695_iOS.jpg', '20191116_215032281_iOS.jpg', '20191116_215036884_iOS.jpg', '20191116_215038819_iOS.jpg', '20191116_215042555_iOS.jpg', '20191116_215044957_iOS.jpg', '20191116_215047659_iOS.jpg', '20191116_215053430_iOS.jpg', '20191116_215105072_iOS.jpg', '20191116_215123826_iOS.jpg', '20191116_215135840_iOS.jpg', '20191116_220646252_iOS.jpg', '20191116_220745244_iOS.jpg', '20191116_220754986_iOS.jpg', '20191116_220812557_iOS.jpg', '20191116_220815559_iOS.jpg', '20191116_220820229_iOS.jpg', '20191116_220932538_iOS.jpg', '20191116_220937876_iOS.jpg', '20191116_221005414_iOS.jpg', '20191116_221027237_iOS.jpg', '20191116_221101089_iOS.jpg', '20191116_221104959_iOS.jpg', '20191116_221246038_iOS.jpg', '20191116_221255820_iOS.jpg', '20191116_221302525_iOS.jpg', '20191116_221536935_iOS.jpg', '20191116_221607789_iOS.jpg', '20191116_221926340_iOS.jpg', '20191116_222340254_iOS.jpg', '20191116_232651829_iOS.jpg', '20191116_232721584_iOS.jpg', '20191116_232737684_iOS.jpg', '20191116_232740719_iOS.jpg', '20191116_232744155_iOS.jpg', '20191116_232800177_iOS.jpg', '20191116_232804488_iOS.jpg', '20191116_232820059_iOS.jpg', '20191116_232836249_iOS.jpg', '20191116_232848796_iOS.jpg', '20191116_232959549_iOS.jpg', '20191116_233002251_iOS.jpg', '20191116_233003818_iOS.jpg', '20191116_233022422_iOS.jpg', '20191116_233036821_iOS.jpg', '20191116_233045770_iOS.jpg', '20191116_233156029_iOS.jpg', '20191116_233202974_iOS.jpg', '20191116_233205076_iOS.jpg', '20191116_233217110_iOS.jpg', '20191116_233237208_iOS.jpg', '20191116_233240043_iOS.jpg', '20191116_233254042_iOS.jpg', '20191116_233258746_iOS.jpg', '20191116_233303549_iOS.jpg', '20191116_233313190_iOS.jpg', '20191116_233321793_iOS.jpg', '20191116_233342474_iOS.jpg', '20191116_233418620_iOS.jpg', '20191116_233424691_iOS.jpg', '20191116_233444197_iOS.jpg', '20191116_233453709_iOS.jpg', '20191116_233510816_iOS.jpg', '20191116_233555299_iOS.jpg', '20191116_233556033_iOS.jpg', '20191116_233602571_iOS.jpg', '20191116_233607741_iOS.jpg', '20191116_233634673_iOS.jpg', '20191116_233654555_iOS.jpg', '20191116_233717905_iOS.jpg', '20191116_233845013_iOS.jpg', '20191116_234028842_iOS.jpg', '20191116_234121763_iOS.jpg', '20191116_234124565_iOS.jpg', '20191116_234215113_iOS.jpg', '20191116_234218015_iOS.jpg', '20191116_234243389_iOS.jpg', '20191116_234254858_iOS.jpg', '20191116_234323084_iOS.jpg', '20191116_234325386_iOS.jpg', '20191116_234345796_iOS.jpg', '20191116_234419596_iOS.jpg', '20191116_234457658_iOS.jpg', '20191116_234544746_iOS.jpg', '20191116_234547782_iOS.jpg', '20191116_234600173_iOS.jpg', '20191116_234639939_iOS.jpg', '20191116_234652174_iOS.jpg', '20191116_234707354_iOS.jpg', '20191116_234713358_iOS.jpg', '20191116_234728360_iOS.jpg', '20191116_234742967_iOS.jpg', '20191116_234818280_iOS.jpg', '20191116_234836302_iOS.jpg', '20191116_234914197_iOS.jpg', '20191116_234916665_iOS.jpg', '20191116_234945782_iOS.jpg', '20191116_235020399_iOS.jpg', '20191116_235024502_iOS.jpg', '20191116_235028038_iOS.jpg', '20191116_235033441_iOS.jpg', '20191116_235036711_iOS.jpg', '20191116_235109466_iOS.jpg', '20191116_235120708_iOS.jpg', '20191116_235129455_iOS.jpg', '20191116_235153094_iOS.jpg', '20191116_235210849_iOS.jpg']\n"
          ],
          "name": "stdout"
        }
      ]
    },
    {
      "cell_type": "code",
      "metadata": {
        "id": "G14gVDCvCcR5",
        "colab_type": "code",
        "colab": {}
      },
      "source": [
        ""
      ],
      "execution_count": 0,
      "outputs": []
    },
    {
      "cell_type": "code",
      "metadata": {
        "id": "tKmz1lMlCcQM",
        "colab_type": "code",
        "colab": {}
      },
      "source": [
        ""
      ],
      "execution_count": 0,
      "outputs": []
    },
    {
      "cell_type": "code",
      "metadata": {
        "id": "fG5d138oCcK6",
        "colab_type": "code",
        "colab": {}
      },
      "source": [
        ""
      ],
      "execution_count": 0,
      "outputs": []
    },
    {
      "cell_type": "code",
      "metadata": {
        "id": "e8FpD49pA8T0",
        "colab_type": "code",
        "colab": {}
      },
      "source": [
        ""
      ],
      "execution_count": 0,
      "outputs": []
    },
    {
      "cell_type": "code",
      "metadata": {
        "id": "nHwmuvD0A8gP",
        "colab_type": "code",
        "colab": {}
      },
      "source": [
        ""
      ],
      "execution_count": 0,
      "outputs": []
    },
    {
      "cell_type": "code",
      "metadata": {
        "id": "17BgAMDDA8oL",
        "colab_type": "code",
        "colab": {}
      },
      "source": [
        ""
      ],
      "execution_count": 0,
      "outputs": []
    },
    {
      "cell_type": "code",
      "metadata": {
        "id": "916j7qhxA8tV",
        "colab_type": "code",
        "colab": {}
      },
      "source": [
        ""
      ],
      "execution_count": 0,
      "outputs": []
    },
    {
      "cell_type": "code",
      "metadata": {
        "id": "E_eLqgjuA8yZ",
        "colab_type": "code",
        "colab": {}
      },
      "source": [
        ""
      ],
      "execution_count": 0,
      "outputs": []
    },
    {
      "cell_type": "code",
      "metadata": {
        "id": "0-2XjlVPA8-I",
        "colab_type": "code",
        "colab": {}
      },
      "source": [
        ""
      ],
      "execution_count": 0,
      "outputs": []
    },
    {
      "cell_type": "code",
      "metadata": {
        "id": "XJeL_FWfA9Dr",
        "colab_type": "code",
        "colab": {}
      },
      "source": [
        ""
      ],
      "execution_count": 0,
      "outputs": []
    },
    {
      "cell_type": "code",
      "metadata": {
        "id": "w3fzfVywA87i",
        "colab_type": "code",
        "colab": {}
      },
      "source": [
        ""
      ],
      "execution_count": 0,
      "outputs": []
    },
    {
      "cell_type": "code",
      "metadata": {
        "id": "v_7uNwEZA85k",
        "colab_type": "code",
        "colab": {}
      },
      "source": [
        ""
      ],
      "execution_count": 0,
      "outputs": []
    },
    {
      "cell_type": "code",
      "metadata": {
        "id": "sn7GaylRA83f",
        "colab_type": "code",
        "colab": {}
      },
      "source": [
        ""
      ],
      "execution_count": 0,
      "outputs": []
    },
    {
      "cell_type": "code",
      "metadata": {
        "id": "2bpL3UOxA81_",
        "colab_type": "code",
        "colab": {}
      },
      "source": [
        ""
      ],
      "execution_count": 0,
      "outputs": []
    },
    {
      "cell_type": "code",
      "metadata": {
        "id": "991xHeXgA8wb",
        "colab_type": "code",
        "colab": {}
      },
      "source": [
        ""
      ],
      "execution_count": 0,
      "outputs": []
    },
    {
      "cell_type": "code",
      "metadata": {
        "id": "8orN8HTDA8ls",
        "colab_type": "code",
        "colab": {}
      },
      "source": [
        ""
      ],
      "execution_count": 0,
      "outputs": []
    },
    {
      "cell_type": "code",
      "metadata": {
        "id": "3RE6YABTA8jQ",
        "colab_type": "code",
        "colab": {}
      },
      "source": [
        ""
      ],
      "execution_count": 0,
      "outputs": []
    },
    {
      "cell_type": "code",
      "metadata": {
        "id": "C2rt4TXDA8d8",
        "colab_type": "code",
        "colab": {}
      },
      "source": [
        ""
      ],
      "execution_count": 0,
      "outputs": []
    },
    {
      "cell_type": "code",
      "metadata": {
        "id": "toKolLXoA8ba",
        "colab_type": "code",
        "colab": {}
      },
      "source": [
        ""
      ],
      "execution_count": 0,
      "outputs": []
    },
    {
      "cell_type": "code",
      "metadata": {
        "id": "dksVacC3A8ZF",
        "colab_type": "code",
        "colab": {}
      },
      "source": [
        ""
      ],
      "execution_count": 0,
      "outputs": []
    },
    {
      "cell_type": "code",
      "metadata": {
        "id": "UY_Fjfk1A8XL",
        "colab_type": "code",
        "colab": {}
      },
      "source": [
        ""
      ],
      "execution_count": 0,
      "outputs": []
    },
    {
      "cell_type": "code",
      "metadata": {
        "id": "P8_xK9JNA8R5",
        "colab_type": "code",
        "colab": {}
      },
      "source": [
        ""
      ],
      "execution_count": 0,
      "outputs": []
    },
    {
      "cell_type": "code",
      "metadata": {
        "id": "TGsv3pBJA8MO",
        "colab_type": "code",
        "colab": {}
      },
      "source": [
        ""
      ],
      "execution_count": 0,
      "outputs": []
    }
  ]
}